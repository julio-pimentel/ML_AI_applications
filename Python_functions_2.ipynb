{
 "cells": [
  {
   "cell_type": "code",
   "execution_count": 3,
   "metadata": {},
   "outputs": [],
   "source": [
    "#Question 1:\n",
    "#Write a program to copy the contents of one file to another using a for loop. (Don’t use built-in copy\n",
    "#function)\n",
    "\n",
    "with open(\"text_file.txt\") as file1:\n",
    "    with open(\"out_file.txt\", \"w\") as file2:\n",
    "        for line in file1:\n",
    "            file2.write(line)\n"
   ]
  },
  {
   "cell_type": "code",
   "execution_count": 9,
   "metadata": {
    "scrolled": true
   },
   "outputs": [
    {
     "name": "stdout",
     "output_type": "stream",
     "text": [
      "Max value: 23\n",
      "Min value: 100000.0\n"
     ]
    }
   ],
   "source": [
    "#Question 2:\n",
    "#Write a Python program to find maximum and minimum values in the dictionary. Do not use built-in min\n",
    "#and max functions.\n",
    "\n",
    "dictionary1={\"a\":1,\"b\":2,\"c\":45,\"d\":-23,\"e\":23}\n",
    "min_value=1e5\n",
    "max_value=1e-5\n",
    "for i in dictionary1:\n",
    "    if dictionary1[i]>max_value:\n",
    "        max_value=dictionary1[i]\n",
    "    if dictionary1[i]<min_value:\n",
    "        min_value=dictionary1[i]\n",
    "\n",
    "print(\"Max value:\",max_value)\n",
    "print(\"Min value:\",min_value)"
   ]
  },
  {
   "cell_type": "code",
   "execution_count": 8,
   "metadata": {},
   "outputs": [
    {
     "data": {
      "text/plain": [
       "1e-05"
      ]
     },
     "execution_count": 8,
     "metadata": {},
     "output_type": "execute_result"
    }
   ],
   "source": [
    "1e-5"
   ]
  }
 ],
 "metadata": {
  "kernelspec": {
   "display_name": "Python 3",
   "language": "python",
   "name": "python3"
  },
  "language_info": {
   "codemirror_mode": {
    "name": "ipython",
    "version": 3
   },
   "file_extension": ".py",
   "mimetype": "text/x-python",
   "name": "python",
   "nbconvert_exporter": "python",
   "pygments_lexer": "ipython3",
   "version": "3.7.6"
  }
 },
 "nbformat": 4,
 "nbformat_minor": 4
}
