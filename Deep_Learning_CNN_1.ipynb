{
 "cells": [
  {
   "cell_type": "code",
   "execution_count": 1,
   "metadata": {
    "executionInfo": {
     "elapsed": 2437,
     "status": "ok",
     "timestamp": 1608638702971,
     "user": {
      "displayName": "Darshan Ingle",
      "photoUrl": "https://lh3.googleusercontent.com/a-/AOh14Gim9rInBhU7kMClSmxE1GZrQwXy-Uf5gYHCdCWP=s64",
      "userId": "18152192421742158537"
     },
     "user_tz": -330
    },
    "id": "Bn33yXAbOj_E"
   },
   "outputs": [],
   "source": [
    "import tensorflow as tf\n",
    "import numpy as np\n",
    "import matplotlib.pyplot as plt\n",
    "from tensorflow.keras.layers import  Input, Conv2D, Dense, Flatten, Dropout\n",
    "from tensorflow.keras.models import Model"
   ]
  },
  {
   "cell_type": "markdown",
   "metadata": {},
   "source": [
    "## Explore the dataset"
   ]
  },
  {
   "cell_type": "code",
   "execution_count": 2,
   "metadata": {
    "colab": {
     "base_uri": "https://localhost:8080/"
    },
    "executionInfo": {
     "elapsed": 2853,
     "status": "ok",
     "timestamp": 1608638703395,
     "user": {
      "displayName": "Darshan Ingle",
      "photoUrl": "https://lh3.googleusercontent.com/a-/AOh14Gim9rInBhU7kMClSmxE1GZrQwXy-Uf5gYHCdCWP=s64",
      "userId": "18152192421742158537"
     },
     "user_tz": -330
    },
    "id": "ry9tFykmPIty",
    "outputId": "6c204bbe-feef-4f4a-da4b-ae2e7a2430bc"
   },
   "outputs": [],
   "source": [
    "fashion_mnist = tf.keras.datasets.fashion_mnist\n",
    "\n",
    "(X_train, y_train), (X_test, y_test) = fashion_mnist.load_data()"
   ]
  },
  {
   "cell_type": "code",
   "execution_count": 3,
   "metadata": {
    "colab": {
     "base_uri": "https://localhost:8080/"
    },
    "executionInfo": {
     "elapsed": 2847,
     "status": "ok",
     "timestamp": 1608638703397,
     "user": {
      "displayName": "Darshan Ingle",
      "photoUrl": "https://lh3.googleusercontent.com/a-/AOh14Gim9rInBhU7kMClSmxE1GZrQwXy-Uf5gYHCdCWP=s64",
      "userId": "18152192421742158537"
     },
     "user_tz": -330
    },
    "id": "JnoKYTfnQP3-",
    "outputId": "15b50ade-1dc1-477a-f1b6-b0c6d04ad028"
   },
   "outputs": [
    {
     "name": "stdout",
     "output_type": "stream",
     "text": [
      "X train shape:  (60000, 28, 28)\n",
      "y train shape:  (60000,)\n",
      "X test shape:  (10000, 28, 28)\n",
      "y test shape:  (10000,)\n"
     ]
    }
   ],
   "source": [
    "print(\"X train shape: \",X_train.shape)\n",
    "print(\"y train shape: \",y_train.shape)\n",
    "print(\"X test shape: \",X_test.shape)\n",
    "print(\"y test shape: \",y_test.shape)\n"
   ]
  },
  {
   "cell_type": "code",
   "execution_count": 4,
   "metadata": {
    "colab": {
     "base_uri": "https://localhost:8080/",
     "height": 265
    },
    "executionInfo": {
     "elapsed": 3338,
     "status": "ok",
     "timestamp": 1608638703947,
     "user": {
      "displayName": "Darshan Ingle",
      "photoUrl": "https://lh3.googleusercontent.com/a-/AOh14Gim9rInBhU7kMClSmxE1GZrQwXy-Uf5gYHCdCWP=s64",
      "userId": "18152192421742158537"
     },
     "user_tz": -330
    },
    "id": "QTiPLtP2Qdsl",
    "outputId": "15eed479-300b-484e-9c77-a4be2affe2bf"
   },
   "outputs": [
    {
     "data": {
      "text/plain": [
       "<matplotlib.image.AxesImage at 0x20f768ef9c8>"
      ]
     },
     "execution_count": 4,
     "metadata": {},
     "output_type": "execute_result"
    },
    {
     "data": {
      "image/png": "[encoded data removed]",
      "text/plain": [
       "<Figure size 432x288 with 1 Axes>"
      ]
     },
     "metadata": {
      "needs_background": "light"
     },
     "output_type": "display_data"
    }
   ],
   "source": [
    "plt.imshow(X_train[0])"
   ]
  },
  {
   "cell_type": "code",
   "execution_count": 6,
   "metadata": {
    "colab": {
     "base_uri": "https://localhost:8080/",
     "height": 265
    },
    "executionInfo": {
     "elapsed": 3324,
     "status": "ok",
     "timestamp": 1608638703950,
     "user": {
      "displayName": "Darshan Ingle",
      "photoUrl": "https://lh3.googleusercontent.com/a-/AOh14Gim9rInBhU7kMClSmxE1GZrQwXy-Uf5gYHCdCWP=s64",
      "userId": "18152192421742158537"
     },
     "user_tz": -330
    },
    "id": "Hbkhk_P2QrWN",
    "outputId": "7951267b-7e15-4b04-e482-5cabb22dbde0"
   },
   "outputs": [
    {
     "data": {
      "image/png": "[encoded data removed]",
      "text/plain": [
       "<Figure size 432x288 with 1 Axes>"
      ]
     },
     "metadata": {
      "needs_background": "light"
     },
     "output_type": "display_data"
    }
   ],
   "source": [
    "plt.imshow(X_train[0], cmap='gray');"
   ]
  },
  {
   "cell_type": "code",
   "execution_count": 7,
   "metadata": {
    "colab": {
     "base_uri": "https://localhost:8080/",
     "height": 265
    },
    "executionInfo": {
     "elapsed": 3878,
     "status": "ok",
     "timestamp": 1608638704528,
     "user": {
      "displayName": "Darshan Ingle",
      "photoUrl": "https://lh3.googleusercontent.com/a-/AOh14Gim9rInBhU7kMClSmxE1GZrQwXy-Uf5gYHCdCWP=s64",
      "userId": "18152192421742158537"
     },
     "user_tz": -330
    },
    "id": "VsMw_hu7QzmD",
    "outputId": "728b8639-7937-49df-9880-0bf1bf297cc6"
   },
   "outputs": [
    {
     "data": {
      "image/png": "[encoded data removed]",
      "text/plain": [
       "<Figure size 432x288 with 1 Axes>"
      ]
     },
     "metadata": {
      "needs_background": "light"
     },
     "output_type": "display_data"
    }
   ],
   "source": [
    "plt.imshow(X_train[1], cmap='gray');"
   ]
  },
  {
   "cell_type": "code",
   "execution_count": 9,
   "metadata": {
    "colab": {
     "base_uri": "https://localhost:8080/",
     "height": 265
    },
    "executionInfo": {
     "elapsed": 3814,
     "status": "ok",
     "timestamp": 1608638704535,
     "user": {
      "displayName": "Darshan Ingle",
      "photoUrl": "https://lh3.googleusercontent.com/a-/AOh14Gim9rInBhU7kMClSmxE1GZrQwXy-Uf5gYHCdCWP=s64",
      "userId": "18152192421742158537"
     },
     "user_tz": -330
    },
    "id": "2jQzmjuLRCBV",
    "outputId": "68de4ee4-d94a-4bad-f3bb-91dd498b7412",
    "scrolled": true
   },
   "outputs": [
    {
     "data": {
      "image/png": "[encoded data removed]",
      "text/plain": [
       "<Figure size 432x288 with 1 Axes>"
      ]
     },
     "metadata": {
      "needs_background": "light"
     },
     "output_type": "display_data"
    }
   ],
   "source": [
    "plt.imshow(X_train[59990], cmap='gray');"
   ]
  },
  {
   "cell_type": "code",
   "execution_count": 10,
   "metadata": {
    "colab": {
     "base_uri": "https://localhost:8080/"
    },
    "executionInfo": {
     "elapsed": 3796,
     "status": "ok",
     "timestamp": 1608638704537,
     "user": {
      "displayName": "Darshan Ingle",
      "photoUrl": "https://lh3.googleusercontent.com/a-/AOh14Gim9rInBhU7kMClSmxE1GZrQwXy-Uf5gYHCdCWP=s64",
      "userId": "18152192421742158537"
     },
     "user_tz": -330
    },
    "id": "6h16VXEARxdh",
    "outputId": "f06803be-13b9-44ad-bfe0-7b4d122f3cc3"
   },
   "outputs": [
    {
     "data": {
      "text/plain": [
       "4"
      ]
     },
     "execution_count": 10,
     "metadata": {},
     "output_type": "execute_result"
    }
   ],
   "source": [
    "y_train[59990]"
   ]
  },
  {
   "cell_type": "markdown",
   "metadata": {},
   "source": [
    "## Normalise the data"
   ]
  },
  {
   "cell_type": "code",
   "execution_count": 12,
   "metadata": {
    "executionInfo": {
     "elapsed": 4265,
     "status": "ok",
     "timestamp": 1608638705083,
     "user": {
      "displayName": "Darshan Ingle",
      "photoUrl": "https://lh3.googleusercontent.com/a-/AOh14Gim9rInBhU7kMClSmxE1GZrQwXy-Uf5gYHCdCWP=s64",
      "userId": "18152192421742158537"
     },
     "user_tz": -330
    },
    "id": "vXAjOjSCR9b1"
   },
   "outputs": [],
   "source": [
    "#normalise the data\n",
    "X_train, X_test = X_train/255.0, X_test/255.0\n",
    "#reshape the data\n",
    "X_train = np.expand_dims(X_train, -1)\n",
    "X_test = np.expand_dims(X_test, -1)"
   ]
  },
  {
   "cell_type": "code",
   "execution_count": 14,
   "metadata": {
    "colab": {
     "base_uri": "https://localhost:8080/"
    },
    "executionInfo": {
     "elapsed": 4288,
     "status": "ok",
     "timestamp": 1608638705139,
     "user": {
      "displayName": "Darshan Ingle",
      "photoUrl": "https://lh3.googleusercontent.com/a-/AOh14Gim9rInBhU7kMClSmxE1GZrQwXy-Uf5gYHCdCWP=s64",
      "userId": "18152192421742158537"
     },
     "user_tz": -330
    },
    "id": "Rj9Ywqf6Szm5",
    "outputId": "71244931-1654-48b2-aafd-268db2d5653e"
   },
   "outputs": [
    {
     "name": "stdout",
     "output_type": "stream",
     "text": [
      "X train shape:  (60000, 28, 28, 1)\n",
      "X test shape:  (10000, 28, 28, 1)\n",
      "Number of classes: 10\n"
     ]
    }
   ],
   "source": [
    "print(\"X train shape: \",X_train.shape)\n",
    "print(\"X test shape: \",X_test.shape)\n",
    "\n",
    "K = len(set(y_train))\n",
    "\n",
    "print(\"Number of classes:\",K)"
   ]
  },
  {
   "cell_type": "markdown",
   "metadata": {},
   "source": [
    "## CNN model "
   ]
  },
  {
   "cell_type": "code",
   "execution_count": 18,
   "metadata": {
    "executionInfo": {
     "elapsed": 9830,
     "status": "ok",
     "timestamp": 1608638710747,
     "user": {
      "displayName": "Darshan Ingle",
      "photoUrl": "https://lh3.googleusercontent.com/a-/AOh14Gim9rInBhU7kMClSmxE1GZrQwXy-Uf5gYHCdCWP=s64",
      "userId": "18152192421742158537"
     },
     "user_tz": -330
    },
    "id": "eOcJmp-oTqwN"
   },
   "outputs": [],
   "source": [
    "# Build the model\n",
    "\n",
    "i = Input(shape= X_train[0].shape)\n",
    "x = Conv2D(32, (3,3), strides=2, activation='relu')(i)\n",
    "x = Conv2D(64, (3,3), strides=2, activation='relu')(x)\n",
    "x = Conv2D(128, (3,3), strides=2, activation='relu')(x)\n",
    "x = Flatten()(x)\n",
    "x = Dropout(0.2)(x)\n",
    "x = Dense(512, activation='relu')(x)\n",
    "x = Dropout(0.2)(x)\n",
    "x = Dense(K, activation='softmax')(x)\n",
    "\n",
    "model = Model(i,x)\n",
    "\n",
    "model.compile(optimizer='adam',\n",
    "              loss='sparse_categorical_crossentropy',\n",
    "              metrics=['accuracy'])"
   ]
  },
  {
   "cell_type": "code",
   "execution_count": 20,
   "metadata": {
    "colab": {
     "base_uri": "https://localhost:8080/"
    },
    "executionInfo": {
     "elapsed": 90956,
     "status": "ok",
     "timestamp": 1608638791893,
     "user": {
      "displayName": "Darshan Ingle",
      "photoUrl": "https://lh3.googleusercontent.com/a-/AOh14Gim9rInBhU7kMClSmxE1GZrQwXy-Uf5gYHCdCWP=s64",
      "userId": "18152192421742158537"
     },
     "user_tz": -330
    },
    "id": "wSaRMRylVQfP",
    "outputId": "9bfc91dd-7a57-43ce-f71f-74687dcae76a",
    "scrolled": true
   },
   "outputs": [
    {
     "name": "stdout",
     "output_type": "stream",
     "text": [
      "Epoch 1/15\n",
      "1875/1875 [==============================] - 23s 12ms/step - loss: 1.3043 - accuracy: 0.5110 - val_loss: 0.6830 - val_accuracy: 0.7459\n",
      "Epoch 2/15\n",
      "1875/1875 [==============================] - 22s 12ms/step - loss: 0.6790 - accuracy: 0.7435 - val_loss: 0.5918 - val_accuracy: 0.7779\n",
      "Epoch 3/15\n",
      "1875/1875 [==============================] - 28s 15ms/step - loss: 0.5925 - accuracy: 0.7785 - val_loss: 0.5338 - val_accuracy: 0.7990\n",
      "Epoch 4/15\n",
      "1875/1875 [==============================] - 26s 14ms/step - loss: 0.5398 - accuracy: 0.7973 - val_loss: 0.5068 - val_accuracy: 0.8075\n",
      "Epoch 5/15\n",
      "1875/1875 [==============================] - 29s 16ms/step - loss: 0.5074 - accuracy: 0.8085 - val_loss: 0.4855 - val_accuracy: 0.8206\n",
      "Epoch 6/15\n",
      "1875/1875 [==============================] - 30s 16ms/step - loss: 0.4810 - accuracy: 0.8186 - val_loss: 0.4577 - val_accuracy: 0.8268\n",
      "Epoch 7/15\n",
      "1875/1875 [==============================] - 31s 17ms/step - loss: 0.4605 - accuracy: 0.8274 - val_loss: 0.4484 - val_accuracy: 0.8308\n",
      "Epoch 8/15\n",
      "1875/1875 [==============================] - 30s 16ms/step - loss: 0.4427 - accuracy: 0.8320 - val_loss: 0.4359 - val_accuracy: 0.8333\n",
      "Epoch 9/15\n",
      "1875/1875 [==============================] - 35s 19ms/step - loss: 0.4329 - accuracy: 0.8352 - val_loss: 0.4335 - val_accuracy: 0.8374\n",
      "Epoch 10/15\n",
      "1875/1875 [==============================] - 32s 17ms/step - loss: 0.4212 - accuracy: 0.8408 - val_loss: 0.4108 - val_accuracy: 0.8467 0.4212 - accuracy\n",
      "Epoch 11/15\n",
      "1875/1875 [==============================] - 30s 16ms/step - loss: 0.4097 - accuracy: 0.8465 - val_loss: 0.4119 - val_accuracy: 0.8424\n",
      "Epoch 12/15\n",
      "1875/1875 [==============================] - 32s 17ms/step - loss: 0.3954 - accuracy: 0.8508 - val_loss: 0.3995 - val_accuracy: 0.8505\n",
      "Epoch 13/15\n",
      "1875/1875 [==============================] - 31s 17ms/step - loss: 0.3927 - accuracy: 0.8496 - val_loss: 0.3930 - val_accuracy: 0.8505\n",
      "Epoch 14/15\n",
      "1875/1875 [==============================] - 27s 14ms/step - loss: 0.3774 - accuracy: 0.8551 - val_loss: 0.3961 - val_accuracy: 0.8513\n",
      "Epoch 15/15\n",
      "1875/1875 [==============================] - 31s 17ms/step - loss: 0.3826 - accuracy: 0.8544 - val_loss: 0.3913 - val_accuracy: 0.8489\n"
     ]
    }
   ],
   "source": [
    "r = model.fit(X_train, y_train, validation_data=(X_test, y_test), epochs=15)"
   ]
  },
  {
   "cell_type": "code",
   "execution_count": 21,
   "metadata": {
    "colab": {
     "base_uri": "https://localhost:8080/",
     "height": 265
    },
    "executionInfo": {
     "elapsed": 1003,
     "status": "ok",
     "timestamp": 1608638953391,
     "user": {
      "displayName": "Darshan Ingle",
      "photoUrl": "https://lh3.googleusercontent.com/a-/AOh14Gim9rInBhU7kMClSmxE1GZrQwXy-Uf5gYHCdCWP=s64",
      "userId": "18152192421742158537"
     },
     "user_tz": -330
    },
    "id": "FNN1F_3hVmgw",
    "outputId": "9aaa2bbd-1f63-4b38-a1c6-55da1c69757c"
   },
   "outputs": [
    {
     "data": {
      "image/png": "[encoded data removed]",
      "text/plain": [
       "<Figure size 432x288 with 1 Axes>"
      ]
     },
     "metadata": {
      "needs_background": "light"
     },
     "output_type": "display_data"
    }
   ],
   "source": [
    "# Plot loss per iteration\n",
    "#Accuracy: 0.8544 \n",
    "\n",
    "plt.plot(r.history['loss'], label='loss')\n",
    "plt.plot(r.history['val_loss'], label='val_loss')\n",
    "plt.legend();"
   ]
  },
  {
   "cell_type": "markdown",
   "metadata": {
    "id": "0_hGHob4W1nd"
   },
   "source": [
    "**Observation:**\n",
    "\n",
    "It appears that the model is overfitting a little bit since we see that the validation loss is slightly going up."
   ]
  },
  {
   "cell_type": "code",
   "execution_count": 22,
   "metadata": {
    "colab": {
     "base_uri": "https://localhost:8080/",
     "height": 265
    },
    "executionInfo": {
     "elapsed": 1097,
     "status": "ok",
     "timestamp": 1608639107047,
     "user": {
      "displayName": "Darshan Ingle",
      "photoUrl": "https://lh3.googleusercontent.com/a-/AOh14Gim9rInBhU7kMClSmxE1GZrQwXy-Uf5gYHCdCWP=s64",
      "userId": "18152192421742158537"
     },
     "user_tz": -330
    },
    "id": "jDzeYGLCWnNf",
    "outputId": "81b39e25-9791-4d20-a1f9-1fb2a3633ce4"
   },
   "outputs": [
    {
     "data": {
      "image/png": "[encoded data removed]",
      "text/plain": [
       "<Figure size 432x288 with 1 Axes>"
      ]
     },
     "metadata": {
      "needs_background": "light"
     },
     "output_type": "display_data"
    }
   ],
   "source": [
    "# Plot accuracy per iteration\n",
    "\n",
    "plt.plot(r.history['accuracy'], label='acc')\n",
    "plt.plot(r.history['val_accuracy'], label='val_acc')\n",
    "plt.legend();"
   ]
  },
  {
   "cell_type": "code",
   "execution_count": 24,
   "metadata": {
    "colab": {
     "base_uri": "https://localhost:8080/",
     "height": 504
    },
    "executionInfo": {
     "elapsed": 2398,
     "status": "ok",
     "timestamp": 1608639206217,
     "user": {
      "displayName": "Darshan Ingle",
      "photoUrl": "https://lh3.googleusercontent.com/a-/AOh14Gim9rInBhU7kMClSmxE1GZrQwXy-Uf5gYHCdCWP=s64",
      "userId": "18152192421742158537"
     },
     "user_tz": -330
    },
    "id": "UbtiZ4LqXMtW",
    "outputId": "b7fdab53-471b-422b-85e3-a4f6b5fb0fe5"
   },
   "outputs": [
    {
     "name": "stdout",
     "output_type": "stream",
     "text": [
      "Confusion matrix, without normalization\n",
      "[[809   0  40  22   4   0 115   0  10   0]\n",
      " [ 13 963   1  14   3   0   5   0   1   0]\n",
      " [ 12   0 813  13  79   0  82   0   1   0]\n",
      " [ 34   7  26 868  36   0  27   0   2   0]\n",
      " [  2   0 120  34 662   0 179   0   3   0]\n",
      " [  0   0   0   2   0 942   0  40   3  13]\n",
      " [170   0 137  26  80   0 572   0  15   0]\n",
      " [  0   0   0   0   0  19   0 949   0  32]\n",
      " [  2   0  12   4   3   5   8   2 964   0]\n",
      " [  1   0   0   0   0  10   0  42   0 947]]\n"
     ]
    },
    {
     "data": {
      "image/png": "[encoded data removed]",
      "text/plain": [
       "<Figure size 432x288 with 2 Axes>"
      ]
     },
     "metadata": {
      "needs_background": "light"
     },
     "output_type": "display_data"
    }
   ],
   "source": [
    "# Plot confusion matrix\n",
    "from sklearn.metrics import confusion_matrix\n",
    "import itertools\n",
    "\n",
    "def plot_confusion_matrix(cm, classes,\n",
    "                          normalize=False,\n",
    "                          title='Confusion matrix',\n",
    "                          cmap=plt.cm.Blues):\n",
    "    if normalize:\n",
    "        cm = cm.astype('float') / cm.sum(axis=1)[:, np.newaxis]\n",
    "        print(\"Normalized confusion matrix\")\n",
    "    else:\n",
    "        print('Confusion matrix, without normalization')\n",
    "\n",
    "    print(cm)\n",
    "\n",
    "    plt.imshow(cm, interpolation='nearest', cmap=cmap)\n",
    "    plt.title(title)\n",
    "    plt.colorbar()\n",
    "    tick_marks = np.arange(len(classes))\n",
    "    plt.xticks(tick_marks, classes, rotation=45)\n",
    "    plt.yticks(tick_marks, classes)\n",
    "\n",
    "    fmt = '.2f' if normalize else 'd'\n",
    "    thresh = cm.max() / 2.\n",
    "    for i, j in itertools.product(range(cm.shape[0]), range(cm.shape[1])):\n",
    "        plt.text(j, i, format(cm[i, j], fmt),\n",
    "                horizontalalignment=\"center\",\n",
    "                color=\"white\" if cm[i, j] > thresh else \"black\")\n",
    "\n",
    "    plt.tight_layout()\n",
    "    plt.ylabel('True label')\n",
    "    plt.xlabel('Predicted label')\n",
    "    plt.show()\n",
    "\n",
    "\n",
    "\n",
    "y_pred = model.predict(X_test).argmax(axis=1)\n",
    "cm = confusion_matrix(y_test, y_pred)\n",
    "plot_confusion_matrix(cm, list(range(10)))\n"
   ]
  },
  {
   "cell_type": "code",
   "execution_count": 25,
   "metadata": {
    "executionInfo": {
     "elapsed": 1313,
     "status": "ok",
     "timestamp": 1608640179465,
     "user": {
      "displayName": "Darshan Ingle",
      "photoUrl": "https://lh3.googleusercontent.com/a-/AOh14Gim9rInBhU7kMClSmxE1GZrQwXy-Uf5gYHCdCWP=s64",
      "userId": "18152192421742158537"
     },
     "user_tz": -330
    },
    "id": "UIAjQWbkXklg"
   },
   "outputs": [],
   "source": [
    "# Label Mapping\n",
    "\n",
    "labels = '''T-shirt/top\n",
    "Trouser\n",
    "Pullover\n",
    "Dress\n",
    "Coat\n",
    "Sandal\n",
    "Shirt\n",
    "Sneaker\n",
    "Bag\n",
    "Ankle boot'''.split(\"\\n\")"
   ]
  },
  {
   "cell_type": "markdown",
   "metadata": {},
   "source": [
    "## Misclassified examples"
   ]
  },
  {
   "cell_type": "code",
   "execution_count": 31,
   "metadata": {
    "colab": {
     "base_uri": "https://localhost:8080/",
     "height": 281
    },
    "executionInfo": {
     "elapsed": 1834,
     "status": "ok",
     "timestamp": 1608640186839,
     "user": {
      "displayName": "Darshan Ingle",
      "photoUrl": "https://lh3.googleusercontent.com/a-/AOh14Gim9rInBhU7kMClSmxE1GZrQwXy-Uf5gYHCdCWP=s64",
      "userId": "18152192421742158537"
     },
     "user_tz": -330
    },
    "id": "JnTNf9vhYpRF",
    "outputId": "eec711ba-9bfd-4eb6-c07c-8537b433808f"
   },
   "outputs": [
    {
     "data": {
      "image/png": "[encoded data removed]",
      "text/plain": [
       "<Figure size 432x288 with 1 Axes>"
      ]
     },
     "metadata": {
      "needs_background": "light"
     },
     "output_type": "display_data"
    }
   ],
   "source": [
    "misclassified_idx1 = np.where(y_pred != y_test)[0]\n",
    "i = np.random.choice(misclassified_idx1)\n",
    "plt.imshow(X_test[i].reshape(28,28), cmap='gray')\n",
    "plt.title(\"True label: %s Predicted: %s\" % (labels[y_test[i]], labels[y_pred[i]]));"
   ]
  },
  {
   "cell_type": "code",
   "execution_count": 32,
   "metadata": {
    "colab": {
     "base_uri": "https://localhost:8080/",
     "height": 281
    },
    "executionInfo": {
     "elapsed": 969,
     "status": "ok",
     "timestamp": 1608640197391,
     "user": {
      "displayName": "Darshan Ingle",
      "photoUrl": "https://lh3.googleusercontent.com/a-/AOh14Gim9rInBhU7kMClSmxE1GZrQwXy-Uf5gYHCdCWP=s64",
      "userId": "18152192421742158537"
     },
     "user_tz": -330
    },
    "id": "0XYI-wmdZo9j",
    "outputId": "874a3b25-a23d-4e3e-f987-491661ad6241"
   },
   "outputs": [
    {
     "data": {
      "image/png": "[encoded data removed]",
      "text/plain": [
       "<Figure size 432x288 with 1 Axes>"
      ]
     },
     "metadata": {
      "needs_background": "light"
     },
     "output_type": "display_data"
    }
   ],
   "source": [
    "misclassified_idx1 = np.where(y_pred != y_test)[0]\n",
    "i = np.random.choice(misclassified_idx1)\n",
    "plt.imshow(X_test[i].reshape(28,28), cmap='gray')\n",
    "plt.title(\"True label: %s Predicted: %s\" % (labels[y_test[i]], labels[y_pred[i]]));"
   ]
  },
  {
   "cell_type": "code",
   "execution_count": 33,
   "metadata": {
    "colab": {
     "base_uri": "https://localhost:8080/",
     "height": 281
    },
    "executionInfo": {
     "elapsed": 998,
     "status": "ok",
     "timestamp": 1608640203977,
     "user": {
      "displayName": "Darshan Ingle",
      "photoUrl": "https://lh3.googleusercontent.com/a-/AOh14Gim9rInBhU7kMClSmxE1GZrQwXy-Uf5gYHCdCWP=s64",
      "userId": "18152192421742158537"
     },
     "user_tz": -330
    },
    "id": "96q27sL4bW7j",
    "outputId": "2167b377-00f0-485e-f022-a5dfdb667821"
   },
   "outputs": [
    {
     "data": {
      "image/png": "[encoded data removed]",
      "text/plain": [
       "<Figure size 432x288 with 1 Axes>"
      ]
     },
     "metadata": {
      "needs_background": "light"
     },
     "output_type": "display_data"
    }
   ],
   "source": [
    "misclassified_idx1 = np.where(y_pred != y_test)[0]\n",
    "i = np.random.choice(misclassified_idx1)\n",
    "plt.imshow(X_test[i].reshape(28,28), cmap='gray')\n",
    "plt.title(\"True label: %s Predicted: %s\" % (labels[y_test[i]], labels[y_pred[i]]));"
   ]
  }
 ],
 "metadata": {
  "accelerator": "GPU",
  "colab": {
   "authorship_tag": "ABX9TyP0VzkH1UEDWy+tkE9fDIo1",
   "collapsed_sections": [],
   "name": "5 CNN_Fashion MNIST.ipynb",
   "provenance": []
  },
  "kernelspec": {
   "display_name": "Python 3",
   "language": "python",
   "name": "python3"
  },
  "language_info": {
   "codemirror_mode": {
    "name": "ipython",
    "version": 3
   },
   "file_extension": ".py",
   "mimetype": "text/x-python",
   "name": "python",
   "nbconvert_exporter": "python",
   "pygments_lexer": "ipython3",
   "version": "3.7.6"
  }
 },
 "nbformat": 4,
 "nbformat_minor": 1
}
