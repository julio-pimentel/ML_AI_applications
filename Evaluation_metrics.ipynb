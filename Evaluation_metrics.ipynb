{
 "cells": [
  {
   "cell_type": "code",
   "execution_count": 13,
   "metadata": {},
   "outputs": [],
   "source": [
    "import numpy as np\n",
    "from sklearn.metrics import confusion_matrix\n"
   ]
  },
  {
   "cell_type": "code",
   "execution_count": 17,
   "metadata": {},
   "outputs": [
    {
     "name": "stdout",
     "output_type": "stream",
     "text": [
      "[0 0 0 1 0 1 0 1 0 1] \n",
      " [0 0 0 1 1 1 0 0 1 1]\n",
      "Confusion matrix : \n",
      " [[3 2]\n",
      " [2 3]]\n",
      "Outcome values : \n",
      " 3 1 2 4\n"
     ]
    }
   ],
   "source": [
    "real=np.random.randint(0,2,10)\n",
    "calc=np.random.randint(0,2,10)\n",
    "\n",
    "print(real,\"\\n\",calc)\n",
    "\n",
    "matrix1 = confusion_matrix(real,calc, labels=[1,0])\n",
    "print(\"Confusion matrix : \\n\",matrix)\n",
    "\n",
    "tp1, fn1, fp1, tn1 = confusion_matrix(real,calc, labels=[1,0]).reshape(-1)\n",
    "print('Outcome values : \\n', tp1, fn1, fp1, tn1)\n",
    "\n"
   ]
  },
  {
   "cell_type": "code",
   "execution_count": 20,
   "metadata": {},
   "outputs": [
    {
     "name": "stdout",
     "output_type": "stream",
     "text": [
      "precision: 0.70\n",
      "recall: 0.84\n"
     ]
    }
   ],
   "source": [
    "tp2, fn2, fp2, tn2 = (42,8,18,32)\n",
    "\n",
    "\n",
    "precision = tp2 / (tp2 + fp2)\n",
    "print(f\"precision: {precision:4.2f}\")\n",
    "recall = tp2 / (tp2 + fn2)\n",
    "print(f\"recall: {recall:4.2f}\")\n",
    "\n",
    "f1_score = 2 * precision * recall / (precision + recall)\n"
   ]
  },
  {
   "cell_type": "code",
   "execution_count": 19,
   "metadata": {},
   "outputs": [
    {
     "data": {
      "text/plain": [
       "42"
      ]
     },
     "execution_count": 19,
     "metadata": {},
     "output_type": "execute_result"
    }
   ],
   "source": []
  },
  {
   "cell_type": "code",
   "execution_count": null,
   "metadata": {},
   "outputs": [],
   "source": []
  },
  {
   "cell_type": "code",
   "execution_count": null,
   "metadata": {},
   "outputs": [],
   "source": []
  }
 ],
 "metadata": {
  "kernelspec": {
   "display_name": "Python 3",
   "language": "python",
   "name": "python3"
  },
  "language_info": {
   "codemirror_mode": {
    "name": "ipython",
    "version": 3
   },
   "file_extension": ".py",
   "mimetype": "text/x-python",
   "name": "python",
   "nbconvert_exporter": "python",
   "pygments_lexer": "ipython3",
   "version": "3.7.6"
  }
 },
 "nbformat": 4,
 "nbformat_minor": 4
}
