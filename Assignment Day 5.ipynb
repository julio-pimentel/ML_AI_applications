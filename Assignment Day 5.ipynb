{
 "cells": [
  {
   "cell_type": "code",
   "execution_count": 17,
   "metadata": {
    "scrolled": true
   },
   "outputs": [
    {
     "name": "stdout",
     "output_type": "stream",
     "text": [
      "[3, 4, 5, 7, 11, 13, 17, 19, 23, 29, 31, 37, 41, 43, 47, 53, 59, 61, 67, 71]\n"
     ]
    }
   ],
   "source": [
    "#Question 1 :\n",
    "#Write a Python program to find the first 20 non-even prime natural numbers.\n",
    "\n",
    "#flag to access inside the while cycle\n",
    "flag=True\n",
    "#counter will change with the following number to try if it is a prime number\n",
    "counter=3\n",
    "#counter of the first 20 numbers to break while cycle\n",
    "first_20_numbers=0\n",
    "#list to store prime numbers \n",
    "prime_numbers_list=[]\n",
    "\n",
    "#while cycle will continue until it reaches the first 20 prime natural numbers\n",
    "while flag:\n",
    "    \n",
    "    #flag to identify if the counter is a prime number\n",
    "    prime_number_flag=True\n",
    "    \n",
    "    #cycle can break early - optimisation pending\n",
    "    #try all numbers before the counter to verify if it is a prime number\n",
    "    for i in range(3,counter):\n",
    "        #if the reminder is 0, the variable is not a prime number\n",
    "        if counter%i==0:\n",
    "            prime_number_flag=False\n",
    "    \n",
    "    #if the flag was not changed during the for cycle then the counter is a prime number\n",
    "    if prime_number_flag:\n",
    "        #append the counter to the list\n",
    "        prime_numbers_list.append(counter)\n",
    "        #increase the counter first 20 numbers\n",
    "        first_20_numbers+=1\n",
    "        \n",
    "    #validate that the cycle has not reached the first 20 prime numbers\n",
    "    if first_20_numbers==20:\n",
    "        flag=False\n",
    "    #increase the counter by 1\n",
    "    counter+=1\n",
    "    \n",
    "#print the first 20 prime numbers\n",
    "print(prime_numbers_list)\n",
    "        \n",
    "    "
   ]
  },
  {
   "cell_type": "code",
   "execution_count": 22,
   "metadata": {
    "scrolled": true
   },
   "outputs": [
    {
     "name": "stdout",
     "output_type": "stream",
     "text": [
      "Original str value:  Lets  Upgrade\n",
      "Original number value:  234.2\n",
      "len():  13\n",
      "str():  234.2\n",
      "lower():  lets  upgrade\n",
      "upper():  LETS  UPGRADE\n",
      "strip():  Lets  Upgrade\n",
      "isdigit():  False\n",
      "isalpha():  False\n",
      "isspace():  False\n",
      "startswith('Let'):  True\n",
      "endswith('Let'):  False\n",
      "find('upgr'):  7\n",
      "replace('Lets','Come'):  Come  Upgrade\n",
      "split():  ['Lets', 'Upgrade']\n",
      "'*'.join() Lets*Upgrade\n"
     ]
    }
   ],
   "source": [
    "#Question 2 :\n",
    "#Write a Python program to implement 15 functions of string.\n",
    "\n",
    "word=\"Lets  Upgrade\"\n",
    "number=234.2\n",
    "print(\"Original str value: \",word)\n",
    "print(\"Original number value: \",number)\n",
    "print(\"len(): \",len(word))\n",
    "print(\"str(): \",str(number))\n",
    "print(\"lower(): \",word.lower())\n",
    "print(\"upper(): \",word.upper())\n",
    "print(\"strip(): \",word.strip())\n",
    "print(\"isdigit(): \",word.isdigit())\n",
    "print(\"isalpha(): \",word.isalpha())\n",
    "print(\"isspace(): \",word.isspace())\n",
    "print(\"startswith('Let'): \",word.startswith('Let'))\n",
    "print(\"endswith('Let'): \",word.endswith('Let'))\n",
    "print(\"find('upgr'): \",word.find('pgr'))\n",
    "print(\"replace('Lets','Come'): \",word.replace('Lets','Come'))\n",
    "a=word.split()\n",
    "print(\"split(): \",a)\n",
    "print(\"'*'.join()\",'*'.join(a))\n"
   ]
  },
  {
   "cell_type": "code",
   "execution_count": 31,
   "metadata": {},
   "outputs": [
    {
     "name": "stdout",
     "output_type": "stream",
     "text": [
      "Python is not an anagram\n",
      "Radar is an anagram\n",
      "CSharp is not an anagram\n",
      "Madam is an anagram\n",
      "Programmer is not an anagram\n",
      "Noon is an anagram\n",
      "Refer is an anagram\n",
      "Php is an anagram\n",
      "Go is not an anagram\n"
     ]
    }
   ],
   "source": [
    "#Question 3:\n",
    "#Write a Python program to check if the given string is a Palindrome or Anagram or None of them. Display\n",
    "#the message accordingly to the user.\n",
    "\n",
    "word_list=['Python', 'Radar', 'CSharp', 'Madam', 'Programmer', 'Noon', 'Refer', 'Php', 'Go']\n",
    "for i in word_list:\n",
    "    if i.lower()==i[::-1].lower():\n",
    "        print(i,\"is an anagram\")\n",
    "    else:\n",
    "        print(i,\"is not an anagram\")"
   ]
  },
  {
   "cell_type": "code",
   "execution_count": 35,
   "metadata": {},
   "outputs": [
    {
     "name": "stdout",
     "output_type": "stream",
     "text": [
      "Write a word: Dr. Darshan Ingle @AIML Trainer\n",
      "drdarshaningleaimltrainer\n"
     ]
    }
   ],
   "source": [
    "#Question 4:\n",
    "#Write a Python's user-defined function that removes all the additional characters from the string and\n",
    "#convert it finally to lower case using built-in lower(). eg: If the string is \"Dr. Darshan Ingle @AIML Trainer\",\n",
    "#then the output be \"drdarshaningleaimltrainer\"\n",
    "\n",
    "word_input=input(\"Write a word: \")\n",
    "list_char=[]\n",
    "for i in word_input:\n",
    "    if i.isalpha():\n",
    "        list_char.append(i)\n",
    "\n",
    "word_output=''.join(list_char)\n",
    "print(word_output.lower())"
   ]
  }
 ],
 "metadata": {
  "kernelspec": {
   "display_name": "Python 3",
   "language": "python",
   "name": "python3"
  },
  "language_info": {
   "codemirror_mode": {
    "name": "ipython",
    "version": 3
   },
   "file_extension": ".py",
   "mimetype": "text/x-python",
   "name": "python",
   "nbconvert_exporter": "python",
   "pygments_lexer": "ipython3",
   "version": "3.7.6"
  }
 },
 "nbformat": 4,
 "nbformat_minor": 4
}
