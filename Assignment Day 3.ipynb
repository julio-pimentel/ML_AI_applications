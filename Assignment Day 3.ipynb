{
 "cells": [
  {
   "cell_type": "raw",
   "metadata": {},
   "source": [
    "Student name: Julio Pimentel \n",
    "Email: julio.pimentela@gmail.com"
   ]
  },
  {
   "cell_type": "code",
   "execution_count": 13,
   "metadata": {},
   "outputs": [
    {
     "name": "stdout",
     "output_type": "stream",
     "text": [
      "A1: 3+2j\n",
      "B1: -3-10j\n",
      "A1 + B1:  -8j\n"
     ]
    }
   ],
   "source": [
    "#Question 1:\n",
    "#Write a program to subtract two complex numbers in Python.\n",
    "\n",
    "def complex_substract(a,b):\n",
    "    c=a+b\n",
    "    return c\n",
    "\n",
    "a1=input(\"A1: \")\n",
    "b1=input(\"B1: \")\n",
    "c1=complex_substract(complex(a1),complex(b1))\n",
    "print(\"A1 + B1: \", c1)"
   ]
  },
  {
   "cell_type": "code",
   "execution_count": 16,
   "metadata": {},
   "outputs": [
    {
     "name": "stdout",
     "output_type": "stream",
     "text": [
      "A2: 16\n",
      "Fourth root:  2.0\n"
     ]
    }
   ],
   "source": [
    "#Question 2 :\n",
    "#Write a program to find the fourth root of a number.\n",
    "\n",
    "a2=input(\"A2: \")\n",
    "print(\"Fourth root: \",float(a2)**(1/4))"
   ]
  },
  {
   "cell_type": "code",
   "execution_count": 17,
   "metadata": {},
   "outputs": [
    {
     "name": "stdout",
     "output_type": "stream",
     "text": [
      "A3: 2\n",
      "B3: 54\n",
      "A3:  54\n",
      "B3:  2\n"
     ]
    }
   ],
   "source": [
    "#Question 3:\n",
    "#Write a program to swap two numbers in Python with the help of a temporary variable.\n",
    "\n",
    "a3=input(\"A3: \")\n",
    "b3=input(\"B3: \")\n",
    "\n",
    "c3=a3\n",
    "a3=b3\n",
    "b3=c3\n",
    "\n",
    "print(\"A3: \",a3)\n",
    "print(\"B3: \",b3)\n"
   ]
  },
  {
   "cell_type": "code",
   "execution_count": 18,
   "metadata": {
    "scrolled": true
   },
   "outputs": [
    {
     "name": "stdout",
     "output_type": "stream",
     "text": [
      "A4: 2\n",
      "B4: 123\n",
      "A4:  123\n",
      "B4:  2\n"
     ]
    }
   ],
   "source": [
    "#Question 4:\n",
    "#Write a program to swap two numbers in Python without using a temporary variable.\n",
    "\n",
    "a4=input(\"A4: \")\n",
    "b4=input(\"B4: \")\n",
    "\n",
    "a4,b4=b4,a4\n",
    "\n",
    "print(\"A4: \",a4)\n",
    "print(\"B4: \",b4)\n"
   ]
  },
  {
   "cell_type": "code",
   "execution_count": 22,
   "metadata": {},
   "outputs": [
    {
     "name": "stdout",
     "output_type": "stream",
     "text": [
      "Temperature in Fahrenheit: 231\n",
      "Celsius:  110.55555555555556\n",
      "Kelvin:  383.7055555555555\n"
     ]
    }
   ],
   "source": [
    "#Question 5:\n",
    "#Write a program to convert Fahrenheit to kelvin and celsius both.\n",
    "\n",
    "fahrenheit1=input(\"Temperature in Fahrenheit: \")\n",
    "\n",
    "celsius1=(float(fahrenheit1)-32)*5/9\n",
    "print(\"Celsius: \",celsius1)\n",
    "\n",
    "kelvin1=celsius1+273.15 \n",
    "print(\"Kelvin: \",kelvin1)"
   ]
  },
  {
   "cell_type": "code",
   "execution_count": 48,
   "metadata": {},
   "outputs": [
    {
     "name": "stdout",
     "output_type": "stream",
     "text": [
      "<class 'str'>\n",
      "<class 'int'>\n",
      "<class 'float'>\n",
      "<class 'complex'>\n",
      "<class 'list'>\n",
      "<class 'tuple'>\n",
      "<class 'range'>\n",
      "<class 'dict'>\n",
      "<class 'set'>\n",
      "<class 'set'>\n",
      "<class 'bool'>\n",
      "<class 'bytes'>\n",
      "<class 'bytearray'>\n",
      "<class 'memoryview'>\n"
     ]
    }
   ],
   "source": [
    "#Question 6:\n",
    "#Write a program to demonstrate all the available data types in Python. Hint: Use type() function.\n",
    "    \n",
    "x = \"Hello World\"#str\n",
    "print(type(x))\n",
    "\n",
    "x = 20 #int\n",
    "print(type(x))\n",
    "\n",
    "x = 20.5 #float\n",
    "print(type(x))\n",
    "\n",
    "x = 1j #complex\n",
    "print(type(x))\n",
    "\n",
    "x = [\"apple\", \"banana\", \"cherry\"] #list\n",
    "print(type(x))\n",
    "\n",
    "x = (\"apple\", \"banana\", \"cherry\") #tuple\n",
    "print(type(x))\n",
    "\n",
    "x = range(6) #range\n",
    "print(type(x))\n",
    "\n",
    "x = {\"name\" : \"John\", \"age\" : 36} #dict\n",
    "print(type(x))\n",
    "\n",
    "x = {\"apple\", \"banana\", \"cherry\"} #set\n",
    "print(type(x))\n",
    "\n",
    "#x = frozenset({\"apple\", \"banana\", \"cherry\"} #frozenset\n",
    "print(type(x))\n",
    "\n",
    "x = True #bool\n",
    "print(type(x))\n",
    "\n",
    "x = b\"Hello\" #bytes\n",
    "print(type(x))\n",
    "\n",
    "x = bytearray(5) #bytearray\n",
    "print(type(x))\n",
    "\n",
    "x = memoryview(bytes(5)) #memoryviewprint(type(x))\n",
    "print(type(x))\n"
   ]
  },
  {
   "cell_type": "raw",
   "metadata": {},
   "source": []
  }
 ],
 "metadata": {
  "kernelspec": {
   "display_name": "Python 3",
   "language": "python",
   "name": "python3"
  },
  "language_info": {
   "codemirror_mode": {
    "name": "ipython",
    "version": 3
   },
   "file_extension": ".py",
   "mimetype": "text/x-python",
   "name": "python",
   "nbconvert_exporter": "python",
   "pygments_lexer": "ipython3",
   "version": "3.7.6"
  }
 },
 "nbformat": 4,
 "nbformat_minor": 4
}
