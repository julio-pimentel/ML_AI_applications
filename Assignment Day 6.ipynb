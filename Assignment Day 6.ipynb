{
 "cells": [
  {
   "cell_type": "code",
   "execution_count": 3,
   "metadata": {},
   "outputs": [
    {
     "name": "stdout",
     "output_type": "stream",
     "text": [
      "Write email address: john@google.com\n",
      "google\n"
     ]
    }
   ],
   "source": [
    "'''Question 1 :\n",
    "Assuming that we have some email addresses in the \"username@companyname.com\" format, please\n",
    "write a program to print the company name of a given email address. Both user names and company\n",
    "names are composed of letters only.\n",
    "Input Format:\n",
    "The first line of the input contains an email address.\n",
    "Output Format:\n",
    "Print the company name in a single line.\n",
    "Example;\n",
    "Input:\n",
    "john@google.com\n",
    "Output:\n",
    "google.'''\n",
    "\n",
    "word_input=input(\"Write email address: \")\n",
    "\n",
    "word_input=word_input.split('@')[1]\n",
    "word_input=word_input.split('.')[0]\n",
    "\n",
    "print(word_input)"
   ]
  },
  {
   "cell_type": "code",
   "execution_count": 15,
   "metadata": {},
   "outputs": [
    {
     "name": "stdout",
     "output_type": "stream",
     "text": [
      "Write comma-separated sequence of words: bag,hello,without,world\n",
      "bag,hello,without,world\n"
     ]
    }
   ],
   "source": [
    "'''Question 2 :\n",
    "Write a program that accepts a comma-separated sequence of words as input and prints the words in a\n",
    "comma-separated sequence after sorting them alphabetically.\n",
    "Input Format:\n",
    "The first line of input contains words separated by the comma.\n",
    "Output Format:\n",
    "Print the sorted words separated by the comma.\n",
    "Example:\n",
    "Input:\n",
    "without,hello,bag,world\n",
    "Output:\n",
    "bag,hello,without,world'''\n",
    "\n",
    "word_input2=input(\"Write comma-separated sequence of words: \")\n",
    "\n",
    "#split words in a list\n",
    "word_input2=word_input2.split(',')\n",
    "#sort list\n",
    "word_input2.sort()\n",
    "#join list again by ','\n",
    "word_output2=','.join(word_input2)\n",
    "\n",
    "#print the join string \n",
    "print(word_output2)\n"
   ]
  },
  {
   "cell_type": "code",
   "execution_count": 16,
   "metadata": {},
   "outputs": [
    {
     "data": {
      "text/plain": [
       "{'bag', 'hello', 'without', 'world'}"
      ]
     },
     "execution_count": 16,
     "metadata": {},
     "output_type": "execute_result"
    }
   ],
   "source": [
    "#Question 3:\n",
    "#Create your own Jupyter Notebook for Sets. Reference link:\n",
    "#https://www.w3schools.com/python/python_sets.asp\n",
    "\n",
    "#set created\n",
    "set(word_input2)"
   ]
  },
  {
   "cell_type": "code",
   "execution_count": 20,
   "metadata": {},
   "outputs": [
    {
     "name": "stdout",
     "output_type": "stream",
     "text": [
      "Write list of numbers: 1 2 4 6 3 7 8\n",
      "5\n"
     ]
    }
   ],
   "source": [
    "'''Question 4:\n",
    "Given a list of n-1 numbers ranging from 1 to n, your task is to find the missing number. There are no\n",
    "duplicates.\n",
    "Input Format:\n",
    "The first line contains n-1 numbers with each number separated by a space.\n",
    "Output Format:\n",
    "Print the missing number\n",
    "Example:\n",
    "Input:\n",
    "1 2 4 6 3 7 8\n",
    "Output:\n",
    "5\n",
    "Explanation:\n",
    "In the above list of numbers 5 is missing and hence 5 is the input'''\n",
    "\n",
    "num_input3=input(\"Write list of numbers: \")\n",
    "\n",
    "#split words in a list\n",
    "num_input3=num_input3.split()\n",
    "#create a new list of integer values\n",
    "num_output3=[]\n",
    "#transform all str values to int in a new list\n",
    "for i in num_input3:\n",
    "    num_output3.append(int(i))\n",
    "    \n",
    "#find the max value of the list\n",
    "max_value=max(num_output3)\n",
    "#cycle between 1 and max value\n",
    "for i in range(1,max_value):\n",
    "    #each number is validated within the list,\n",
    "    if i not in num_output3:\n",
    "        #print missing values\n",
    "        print(i)\n",
    "        break"
   ]
  },
  {
   "cell_type": "code",
   "execution_count": 22,
   "metadata": {},
   "outputs": [
    {
     "name": "stdout",
     "output_type": "stream",
     "text": [
      "Write list of numbers: 12 24 35 24\n",
      "12 24 35\n"
     ]
    }
   ],
   "source": [
    "'''Question 5:\n",
    "With a given list L, write a program to print this list L after removing all duplicate values with original order\n",
    "reserved.\n",
    "Example:\n",
    "If the input list is\n",
    "12 24 35 24 88 120 155 88 120 155\n",
    "Then the output should be\n",
    "12 24 35 88 120 155\n",
    "Explanation:\n",
    "Third, the seventh and ninth element of the list L has been removed because it was already present.\n",
    "Input Format:\n",
    "In one line take the elements of the list L with each element separated by a space.\n",
    "Output Format:\n",
    "Print the elements of the modified list in one line with each element separated by a space.\n",
    "Example:\n",
    "Input:\n",
    "12 24 35 24\n",
    "Output:\n",
    "12 24 35'''\n",
    "\n",
    "num_input4=input(\"Write list of numbers: \")\n",
    "\n",
    "#split words in a list\n",
    "num_input4=num_input4.split()\n",
    "#create a new list without duplicates\n",
    "num_output4=[]\n",
    "\n",
    "#cycle in all values of the list\n",
    "for i in num_input4:\n",
    "    #if the value is not in the new list, then it is appended\n",
    "    if i not in num_output4:\n",
    "        num_output4.append(i)\n",
    "\n",
    "#print all values without dupliates, separated by space        \n",
    "print(' '.join(num_output4))\n"
   ]
  },
  {
   "cell_type": "code",
   "execution_count": null,
   "metadata": {},
   "outputs": [],
   "source": []
  },
  {
   "cell_type": "code",
   "execution_count": null,
   "metadata": {},
   "outputs": [],
   "source": []
  }
 ],
 "metadata": {
  "kernelspec": {
   "display_name": "Python 3",
   "language": "python",
   "name": "python3"
  },
  "language_info": {
   "codemirror_mode": {
    "name": "ipython",
    "version": 3
   },
   "file_extension": ".py",
   "mimetype": "text/x-python",
   "name": "python",
   "nbconvert_exporter": "python",
   "pygments_lexer": "ipython3",
   "version": "3.7.6"
  }
 },
 "nbformat": 4,
 "nbformat_minor": 4
}
