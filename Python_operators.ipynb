{
 "cells": [
  {
   "cell_type": "code",
   "execution_count": null,
   "metadata": {},
   "outputs": [],
   "source": [
    "#Question 1 :\n",
    "#Research on whether addition, subtraction, multiplication, division, floor division, and module operations\n",
    "#be performed on complex numbers. Based on your study, implement a Python program to demonstrate\n",
    "#these operations."
   ]
  },
  {
   "cell_type": "markdown",
   "metadata": {},
   "source": [
    "Question 2 :\n",
    "Research on range() functions and its parameters. Create a markdown cell and write in your own words\n",
    "(no copy-paste from google please) what you understand about it. Implement a small program of your\n",
    "choice on the same.\n",
    "\n",
    "syntaxis:\n",
    "range(start, stop, step)\n",
    "\n",
    "The range function has two one required and two optional parameters. It is a data type. The default for the start parameter is 0 and for the step parameter is 1. These are the optional parameters. Stop parameter is a value not included in the output. This function is useful to create a sequence of numbers. "
   ]
  },
  {
   "cell_type": "code",
   "execution_count": 7,
   "metadata": {},
   "outputs": [
    {
     "name": "stdout",
     "output_type": "stream",
     "text": [
      "range(15):  [0, 1, 2, 3, 4, 5, 6, 7, 8, 9, 10, 11, 12, 13, 14]\n",
      "range(4,15):  [4, 5, 6, 7, 8, 9, 10, 11, 12, 13, 14]\n",
      "range(0,15,3):  [0, 3, 6, 9, 12]\n"
     ]
    }
   ],
   "source": [
    "x=list(range(15))\n",
    "print(\"range(15): \",x)\n",
    "x=list(range(4,15))\n",
    "print(\"range(4,15): \",x)\n",
    "x=list(range(0,15,3))\n",
    "print(\"range(0,15,3): \",x)"
   ]
  },
  {
   "cell_type": "code",
   "execution_count": 11,
   "metadata": {},
   "outputs": [
    {
     "name": "stdout",
     "output_type": "stream",
     "text": [
      "A1: 1\n",
      "B1: 4\n",
      "Less than 25:  0.25\n"
     ]
    }
   ],
   "source": [
    "#Question 3:\n",
    "#Consider two numbers. Perform their subtraction and if the result of subtraction is greater than 25, print\n",
    "#their multiplication result else print their division result.\n",
    "\n",
    "a1=float(input(\"A1: \"))\n",
    "b1=float(input(\"B1: \"))\n",
    "\n",
    "if a1*b1 > 25:\n",
    "    print(\"Greater than 25: \",a1*b1)\n",
    "else:\n",
    "    print(\"Less than 25: \",a1/b1)"
   ]
  },
  {
   "cell_type": "code",
   "execution_count": 20,
   "metadata": {},
   "outputs": [
    {
     "name": "stdout",
     "output_type": "stream",
     "text": [
      "2 -> 2\n",
      "50 -> 2498\n",
      "8 -> 62\n",
      "22 -> 482\n",
      "56 -> 3134\n",
      "20 -> 398\n"
     ]
    }
   ],
   "source": [
    "#Question 4:\n",
    "#Consider a list of 10 elements of integer values. If the number in the list is divisible by 2, print the result as\n",
    "#\"square of that number minus 2\".\n",
    "\n",
    "list1=[2,45,50,7,8,22,56,20,53,67]\n",
    "\n",
    "for i in list1:\n",
    "    if i%2==0:\n",
    "        print(i,\"->\",i**2 - 2)"
   ]
  },
  {
   "cell_type": "code",
   "execution_count": 21,
   "metadata": {},
   "outputs": [
    {
     "name": "stdout",
     "output_type": "stream",
     "text": [
      "45\n",
      "50\n",
      "22\n",
      "56\n",
      "20\n",
      "53\n",
      "67\n"
     ]
    }
   ],
   "source": [
    "#Question 5:\n",
    "#Consider a list of 10 elements. Print all the elements in the list which are greater than 7 when that number\n",
    "#is divided 2.\n",
    "\n",
    "for i in list1:\n",
    "    if (i/2)>7:\n",
    "        print(i)"
   ]
  }
 ],
 "metadata": {
  "kernelspec": {
   "display_name": "Python 3",
   "language": "python",
   "name": "python3"
  },
  "language_info": {
   "codemirror_mode": {
    "name": "ipython",
    "version": 3
   },
   "file_extension": ".py",
   "mimetype": "text/x-python",
   "name": "python",
   "nbconvert_exporter": "python",
   "pygments_lexer": "ipython3",
   "version": "3.7.6"
  }
 },
 "nbformat": 4,
 "nbformat_minor": 4
}
