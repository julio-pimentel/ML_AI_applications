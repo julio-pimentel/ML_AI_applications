{
 "cells": [
  {
   "cell_type": "code",
   "execution_count": 1,
   "metadata": {
    "id": "DzeARK2HM4cR"
   },
   "outputs": [],
   "source": [
    "import tensorflow as tf\n",
    "from sklearn.datasets import load_breast_cancer\n",
    "import numpy as np"
   ]
  },
  {
   "cell_type": "code",
   "execution_count": 4,
   "metadata": {
    "id": "mkgZLUEdNS7f"
   },
   "outputs": [
    {
     "data": {
      "text/plain": [
       "sklearn.utils.Bunch"
      ]
     },
     "execution_count": 4,
     "metadata": {},
     "output_type": "execute_result"
    }
   ],
   "source": [
    "#load breast cancer dataset from sklearn\n",
    "cancer_df = load_breast_cancer()\n",
    "type(cancer_df)"
   ]
  },
  {
   "cell_type": "markdown",
   "metadata": {},
   "source": [
    "## Explore the dataset"
   ]
  },
  {
   "cell_type": "code",
   "execution_count": 5,
   "metadata": {
    "colab": {
     "base_uri": "https://localhost:8080/"
    },
    "id": "2V8_DHenNZJq",
    "outputId": "cfe499b0-fc1e-4e2f-a054-5c8012ce1f4c"
   },
   "outputs": [
    {
     "data": {
      "text/plain": [
       "dict_keys(['data', 'target', 'frame', 'target_names', 'DESCR', 'feature_names', 'filename'])"
      ]
     },
     "execution_count": 5,
     "metadata": {},
     "output_type": "execute_result"
    }
   ],
   "source": [
    "#explore the features of the sklearn dataset\n",
    "cancer_df.keys()"
   ]
  },
  {
   "cell_type": "code",
   "execution_count": 6,
   "metadata": {
    "colab": {
     "base_uri": "https://localhost:8080/"
    },
    "id": "g8bWb-E4NoCY",
    "outputId": "ab95eb8f-be05-4490-8e38-80b36dc8aea9"
   },
   "outputs": [
    {
     "data": {
      "text/plain": [
       "(569, 30)"
      ]
     },
     "execution_count": 6,
     "metadata": {},
     "output_type": "execute_result"
    }
   ],
   "source": [
    "cancer_df.data.shape"
   ]
  },
  {
   "cell_type": "code",
   "execution_count": 7,
   "metadata": {
    "colab": {
     "base_uri": "https://localhost:8080/"
    },
    "id": "nSGDpeLuN0Ks",
    "outputId": "7d3d2acd-b2eb-4df0-a30c-5c5cf975503a"
   },
   "outputs": [
    {
     "data": {
      "text/plain": [
       "array([[1.799e+01, 1.038e+01, 1.228e+02, ..., 2.654e-01, 4.601e-01,\n",
       "        1.189e-01],\n",
       "       [2.057e+01, 1.777e+01, 1.329e+02, ..., 1.860e-01, 2.750e-01,\n",
       "        8.902e-02],\n",
       "       [1.969e+01, 2.125e+01, 1.300e+02, ..., 2.430e-01, 3.613e-01,\n",
       "        8.758e-02],\n",
       "       ...,\n",
       "       [1.660e+01, 2.808e+01, 1.083e+02, ..., 1.418e-01, 2.218e-01,\n",
       "        7.820e-02],\n",
       "       [2.060e+01, 2.933e+01, 1.401e+02, ..., 2.650e-01, 4.087e-01,\n",
       "        1.240e-01],\n",
       "       [7.760e+00, 2.454e+01, 4.792e+01, ..., 0.000e+00, 2.871e-01,\n",
       "        7.039e-02]])"
      ]
     },
     "execution_count": 7,
     "metadata": {},
     "output_type": "execute_result"
    }
   ],
   "source": [
    "cancer_df.data"
   ]
  },
  {
   "cell_type": "code",
   "execution_count": 8,
   "metadata": {
    "colab": {
     "base_uri": "https://localhost:8080/"
    },
    "id": "0fZVrU80N1lB",
    "outputId": "1c0786a8-09e3-4ec2-96b8-b97f9d01bded"
   },
   "outputs": [
    {
     "data": {
      "text/plain": [
       "array([0, 0, 0, 0, 0, 0, 0, 0, 0, 0, 0, 0, 0, 0, 0, 0, 0, 0, 0, 1, 1, 1,\n",
       "       0, 0, 0, 0, 0, 0, 0, 0, 0, 0, 0, 0, 0, 0, 0, 1, 0, 0, 0, 0, 0, 0,\n",
       "       0, 0, 1, 0, 1, 1, 1, 1, 1, 0, 0, 1, 0, 0, 1, 1, 1, 1, 0, 1, 0, 0,\n",
       "       1, 1, 1, 1, 0, 1, 0, 0, 1, 0, 1, 0, 0, 1, 1, 1, 0, 0, 1, 0, 0, 0,\n",
       "       1, 1, 1, 0, 1, 1, 0, 0, 1, 1, 1, 0, 0, 1, 1, 1, 1, 0, 1, 1, 0, 1,\n",
       "       1, 1, 1, 1, 1, 1, 1, 0, 0, 0, 1, 0, 0, 1, 1, 1, 0, 0, 1, 0, 1, 0,\n",
       "       0, 1, 0, 0, 1, 1, 0, 1, 1, 0, 1, 1, 1, 1, 0, 1, 1, 1, 1, 1, 1, 1,\n",
       "       1, 1, 0, 1, 1, 1, 1, 0, 0, 1, 0, 1, 1, 0, 0, 1, 1, 0, 0, 1, 1, 1,\n",
       "       1, 0, 1, 1, 0, 0, 0, 1, 0, 1, 0, 1, 1, 1, 0, 1, 1, 0, 0, 1, 0, 0,\n",
       "       0, 0, 1, 0, 0, 0, 1, 0, 1, 0, 1, 1, 0, 1, 0, 0, 0, 0, 1, 1, 0, 0,\n",
       "       1, 1, 1, 0, 1, 1, 1, 1, 1, 0, 0, 1, 1, 0, 1, 1, 0, 0, 1, 0, 1, 1,\n",
       "       1, 1, 0, 1, 1, 1, 1, 1, 0, 1, 0, 0, 0, 0, 0, 0, 0, 0, 0, 0, 0, 0,\n",
       "       0, 0, 1, 1, 1, 1, 1, 1, 0, 1, 0, 1, 1, 0, 1, 1, 0, 1, 0, 0, 1, 1,\n",
       "       1, 1, 1, 1, 1, 1, 1, 1, 1, 1, 1, 0, 1, 1, 0, 1, 0, 1, 1, 1, 1, 1,\n",
       "       1, 1, 1, 1, 1, 1, 1, 1, 1, 0, 1, 1, 1, 0, 1, 0, 1, 1, 1, 1, 0, 0,\n",
       "       0, 1, 1, 1, 1, 0, 1, 0, 1, 0, 1, 1, 1, 0, 1, 1, 1, 1, 1, 1, 1, 0,\n",
       "       0, 0, 1, 1, 1, 1, 1, 1, 1, 1, 1, 1, 1, 0, 0, 1, 0, 0, 0, 1, 0, 0,\n",
       "       1, 1, 1, 1, 1, 0, 1, 1, 1, 1, 1, 0, 1, 1, 1, 0, 1, 1, 0, 0, 1, 1,\n",
       "       1, 1, 1, 1, 0, 1, 1, 1, 1, 1, 1, 1, 0, 1, 1, 1, 1, 1, 0, 1, 1, 0,\n",
       "       1, 1, 1, 1, 1, 1, 1, 1, 1, 1, 1, 1, 0, 1, 0, 0, 1, 0, 1, 1, 1, 1,\n",
       "       1, 0, 1, 1, 0, 1, 0, 1, 1, 0, 1, 0, 1, 1, 1, 1, 1, 1, 1, 1, 0, 0,\n",
       "       1, 1, 1, 1, 1, 1, 0, 1, 1, 1, 1, 1, 1, 1, 1, 1, 1, 0, 1, 1, 1, 1,\n",
       "       1, 1, 1, 0, 1, 0, 1, 1, 0, 1, 1, 1, 1, 1, 0, 0, 1, 0, 1, 0, 1, 1,\n",
       "       1, 1, 1, 0, 1, 1, 0, 1, 0, 1, 0, 0, 1, 1, 1, 0, 1, 1, 1, 1, 1, 1,\n",
       "       1, 1, 1, 1, 1, 0, 1, 0, 0, 1, 1, 1, 1, 1, 1, 1, 1, 1, 1, 1, 1, 1,\n",
       "       1, 1, 1, 1, 1, 1, 1, 1, 1, 1, 1, 1, 0, 0, 0, 0, 0, 0, 1])"
      ]
     },
     "execution_count": 8,
     "metadata": {},
     "output_type": "execute_result"
    }
   ],
   "source": [
    "cancer_df.target"
   ]
  },
  {
   "cell_type": "code",
   "execution_count": 9,
   "metadata": {
    "colab": {
     "base_uri": "https://localhost:8080/"
    },
    "id": "abfB7XnRN_VQ",
    "outputId": "3fc0b577-87f2-4f84-e40b-f52527dd219c"
   },
   "outputs": [
    {
     "data": {
      "text/plain": [
       "array(['malignant', 'benign'], dtype='<U9')"
      ]
     },
     "execution_count": 9,
     "metadata": {},
     "output_type": "execute_result"
    }
   ],
   "source": [
    "cancer_df.target_names"
   ]
  },
  {
   "cell_type": "code",
   "execution_count": 10,
   "metadata": {
    "colab": {
     "base_uri": "https://localhost:8080/"
    },
    "id": "u2fKOCz7OGhs",
    "outputId": "2c5a4346-56c2-4af0-b7ad-c48c4ce52407"
   },
   "outputs": [
    {
     "data": {
      "text/plain": [
       "array(['mean radius', 'mean texture', 'mean perimeter', 'mean area',\n",
       "       'mean smoothness', 'mean compactness', 'mean concavity',\n",
       "       'mean concave points', 'mean symmetry', 'mean fractal dimension',\n",
       "       'radius error', 'texture error', 'perimeter error', 'area error',\n",
       "       'smoothness error', 'compactness error', 'concavity error',\n",
       "       'concave points error', 'symmetry error',\n",
       "       'fractal dimension error', 'worst radius', 'worst texture',\n",
       "       'worst perimeter', 'worst area', 'worst smoothness',\n",
       "       'worst compactness', 'worst concavity', 'worst concave points',\n",
       "       'worst symmetry', 'worst fractal dimension'], dtype='<U23')"
      ]
     },
     "execution_count": 10,
     "metadata": {},
     "output_type": "execute_result"
    }
   ],
   "source": [
    "cancer_df.feature_names"
   ]
  },
  {
   "cell_type": "code",
   "execution_count": 11,
   "metadata": {
    "colab": {
     "base_uri": "https://localhost:8080/"
    },
    "id": "dSaTQtksOQrM",
    "outputId": "ecf03099-f38d-44a5-fc06-861ab8713cb2"
   },
   "outputs": [
    {
     "data": {
      "text/plain": [
       "30"
      ]
     },
     "execution_count": 11,
     "metadata": {},
     "output_type": "execute_result"
    }
   ],
   "source": [
    "len(cancer_df.feature_names)"
   ]
  },
  {
   "cell_type": "code",
   "execution_count": 12,
   "metadata": {
    "colab": {
     "base_uri": "https://localhost:8080/",
     "height": 809
    },
    "id": "RthpTX_qOg8E",
    "outputId": "1fe60f43-5517-48d7-cf57-6f0f0ccd74b8"
   },
   "outputs": [
    {
     "name": "stdout",
     "output_type": "stream",
     "text": [
      ".. _breast_cancer_dataset:\n",
      "\n",
      "Breast cancer wisconsin (diagnostic) dataset\n",
      "--------------------------------------------\n",
      "\n",
      "**Data Set Characteristics:**\n",
      "\n",
      "    :Number of Instances: 569\n",
      "\n",
      "    :Number of Attributes: 30 numeric, predictive attributes and the class\n",
      "\n",
      "    :Attribute Information:\n",
      "        - radius (mean of distances from center to points on the perimeter)\n",
      "        - texture (standard deviation of gray-scale values)\n",
      "        - perimeter\n",
      "        - area\n",
      "        - smoothness (local variation in radius lengths)\n",
      "        - compactness (perimeter^2 / area - 1.0)\n",
      "        - concavity (severity of concave portions of the contour)\n",
      "        - concave points (number of concave portions of the contour)\n",
      "        - symmetry\n",
      "        - fractal dimension (\"coastline approximation\" - 1)\n",
      "\n",
      "        The mean, standard error, and \"worst\" or largest (mean of the three\n",
      "        worst/largest values) of these features were computed for each image,\n",
      "        resulting in 30 features.  For instance, field 0 is Mean Radius, field\n",
      "        10 is Radius SE, field 20 is Worst Radius.\n",
      "\n",
      "        - class:\n",
      "                - WDBC-Malignant\n",
      "                - WDBC-Benign\n",
      "\n",
      "    :Summary Statistics:\n",
      "\n",
      "    ===================================== ====== ======\n",
      "                                           Min    Max\n",
      "    ===================================== ====== ======\n",
      "    radius (mean):                        6.981  28.11\n",
      "    texture (mean):                       9.71   39.28\n",
      "    perimeter (mean):                     43.79  188.5\n",
      "    area (mean):                          143.5  2501.0\n",
      "    smoothness (mean):                    0.053  0.163\n",
      "    compactness (mean):                   0.019  0.345\n",
      "    concavity (mean):                     0.0    0.427\n",
      "    concave points (mean):                0.0    0.201\n",
      "    symmetry (mean):                      0.106  0.304\n",
      "    fractal dimension (mean):             0.05   0.097\n",
      "    radius (standard error):              0.112  2.873\n",
      "    texture (standard error):             0.36   4.885\n",
      "    perimeter (standard error):           0.757  21.98\n",
      "    area (standard error):                6.802  542.2\n",
      "    smoothness (standard error):          0.002  0.031\n",
      "    compactness (standard error):         0.002  0.135\n",
      "    concavity (standard error):           0.0    0.396\n",
      "    concave points (standard error):      0.0    0.053\n",
      "    symmetry (standard error):            0.008  0.079\n",
      "    fractal dimension (standard error):   0.001  0.03\n",
      "    radius (worst):                       7.93   36.04\n",
      "    texture (worst):                      12.02  49.54\n",
      "    perimeter (worst):                    50.41  251.2\n",
      "    area (worst):                         185.2  4254.0\n",
      "    smoothness (worst):                   0.071  0.223\n",
      "    compactness (worst):                  0.027  1.058\n",
      "    concavity (worst):                    0.0    1.252\n",
      "    concave points (worst):               0.0    0.291\n",
      "    symmetry (worst):                     0.156  0.664\n",
      "    fractal dimension (worst):            0.055  0.208\n",
      "    ===================================== ====== ======\n",
      "\n",
      "    :Missing Attribute Values: None\n",
      "\n",
      "    :Class Distribution: 212 - Malignant, 357 - Benign\n",
      "\n",
      "    :Creator:  Dr. William H. Wolberg, W. Nick Street, Olvi L. Mangasarian\n",
      "\n",
      "    :Donor: Nick Street\n",
      "\n",
      "    :Date: November, 1995\n",
      "\n",
      "This is a copy of UCI ML Breast Cancer Wisconsin (Diagnostic) datasets.\n",
      "https://goo.gl/U2Uwz2\n",
      "\n",
      "Features are computed from a digitized image of a fine needle\n",
      "aspirate (FNA) of a breast mass.  They describe\n",
      "characteristics of the cell nuclei present in the image.\n",
      "\n",
      "Separating plane described above was obtained using\n",
      "Multisurface Method-Tree (MSM-T) [K. P. Bennett, \"Decision Tree\n",
      "Construction Via Linear Programming.\" Proceedings of the 4th\n",
      "Midwest Artificial Intelligence and Cognitive Science Society,\n",
      "pp. 97-101, 1992], a classification method which uses linear\n",
      "programming to construct a decision tree.  Relevant features\n",
      "were selected using an exhaustive search in the space of 1-4\n",
      "features and 1-3 separating planes.\n",
      "\n",
      "The actual linear program used to obtain the separating plane\n",
      "in the 3-dimensional space is that described in:\n",
      "[K. P. Bennett and O. L. Mangasarian: \"Robust Linear\n",
      "Programming Discrimination of Two Linearly Inseparable Sets\",\n",
      "Optimization Methods and Software 1, 1992, 23-34].\n",
      "\n",
      "This database is also available through the UW CS ftp server:\n",
      "\n",
      "ftp ftp.cs.wisc.edu\n",
      "cd math-prog/cpo-dataset/machine-learn/WDBC/\n",
      "\n",
      ".. topic:: References\n",
      "\n",
      "   - W.N. Street, W.H. Wolberg and O.L. Mangasarian. Nuclear feature extraction \n",
      "     for breast tumor diagnosis. IS&T/SPIE 1993 International Symposium on \n",
      "     Electronic Imaging: Science and Technology, volume 1905, pages 861-870,\n",
      "     San Jose, CA, 1993.\n",
      "   - O.L. Mangasarian, W.N. Street and W.H. Wolberg. Breast cancer diagnosis and \n",
      "     prognosis via linear programming. Operations Research, 43(4), pages 570-577, \n",
      "     July-August 1995.\n",
      "   - W.H. Wolberg, W.N. Street, and O.L. Mangasarian. Machine learning techniques\n",
      "     to diagnose breast cancer from fine-needle aspirates. Cancer Letters 77 (1994) \n",
      "     163-171.\n"
     ]
    }
   ],
   "source": [
    "print(cancer_df.DESCR)"
   ]
  },
  {
   "cell_type": "markdown",
   "metadata": {},
   "source": [
    "## Split training and test data"
   ]
  },
  {
   "cell_type": "code",
   "execution_count": 20,
   "metadata": {
    "id": "B4BMrTxKOvGM"
   },
   "outputs": [],
   "source": [
    "from sklearn.model_selection import train_test_split\n",
    "\n",
    "X_train, X_test, y_train, y_test = train_test_split(cancer_df.data, cancer_df.target, test_size=0.20)\n",
    "\n",
    "# N = No of rows\n",
    "# D = No of cols/features\n",
    "\n",
    "N, D = X_train.shape"
   ]
  },
  {
   "cell_type": "code",
   "execution_count": 17,
   "metadata": {
    "colab": {
     "base_uri": "https://localhost:8080/"
    },
    "id": "ju9qXKHbPUSb",
    "outputId": "8181cca0-6fc6-4b94-b9f6-03c718da8407",
    "scrolled": false
   },
   "outputs": [
    {
     "data": {
      "text/plain": [
       "array([[1.364e+01, 1.634e+01, 8.721e+01, 5.718e+02, 7.685e-02, 6.059e-02,\n",
       "        1.857e-02, 1.723e-02, 1.353e-01, 5.953e-02, 1.872e-01, 9.234e-01,\n",
       "        1.449e+00, 1.455e+01, 4.477e-03, 1.177e-02, 1.079e-02, 7.956e-03,\n",
       "        1.325e-02, 2.551e-03, 1.467e+01, 2.319e+01, 9.608e+01, 6.567e+02,\n",
       "        1.089e-01, 1.582e-01, 1.050e-01, 8.586e-02, 2.346e-01, 8.025e-02],\n",
       "       [2.742e+01, 2.627e+01, 1.869e+02, 2.501e+03, 1.084e-01, 1.988e-01,\n",
       "        3.635e-01, 1.689e-01, 2.061e-01, 5.623e-02, 2.547e+00, 1.306e+00,\n",
       "        1.865e+01, 5.422e+02, 7.650e-03, 5.374e-02, 8.055e-02, 2.598e-02,\n",
       "        1.697e-02, 4.558e-03, 3.604e+01, 3.137e+01, 2.512e+02, 4.254e+03,\n",
       "        1.357e-01, 4.256e-01, 6.833e-01, 2.625e-01, 2.641e-01, 7.427e-02],\n",
       "       [1.025e+01, 1.618e+01, 6.652e+01, 3.242e+02, 1.061e-01, 1.111e-01,\n",
       "        6.726e-02, 3.965e-02, 1.743e-01, 7.279e-02, 3.677e-01, 1.471e+00,\n",
       "        1.597e+00, 2.268e+01, 1.049e-02, 4.265e-02, 4.004e-02, 1.544e-02,\n",
       "        2.719e-02, 7.596e-03, 1.128e+01, 2.061e+01, 7.153e+01, 3.904e+02,\n",
       "        1.402e-01, 2.360e-01, 1.898e-01, 9.744e-02, 2.608e-01, 9.702e-02]])"
      ]
     },
     "execution_count": 17,
     "metadata": {},
     "output_type": "execute_result"
    }
   ],
   "source": [
    "X_train[:3]"
   ]
  },
  {
   "cell_type": "code",
   "execution_count": 18,
   "metadata": {
    "colab": {
     "base_uri": "https://localhost:8080/"
    },
    "id": "oz87bPLmPhSa",
    "outputId": "19d82410-3210-49a3-fbb4-dbc525b8114f"
   },
   "outputs": [
    {
     "data": {
      "text/plain": [
       "(455, 30)"
      ]
     },
     "execution_count": 18,
     "metadata": {},
     "output_type": "execute_result"
    }
   ],
   "source": [
    "X_train.shape"
   ]
  },
  {
   "cell_type": "markdown",
   "metadata": {},
   "source": [
    "## Scale the data"
   ]
  },
  {
   "cell_type": "code",
   "execution_count": 19,
   "metadata": {
    "id": "Qb1jzt1cP26U"
   },
   "outputs": [],
   "source": [
    "from sklearn.preprocessing import StandardScaler\n",
    "scaler = StandardScaler()\n",
    "X_train = scaler.fit_transform(X_train)\n",
    "X_test = scaler.transform(X_test)"
   ]
  },
  {
   "cell_type": "markdown",
   "metadata": {},
   "source": [
    "## Build TensorFlow model "
   ]
  },
  {
   "cell_type": "code",
   "execution_count": 22,
   "metadata": {
    "id": "vpNHgr8WQVEu"
   },
   "outputs": [],
   "source": [
    "# Build a model\n",
    "\n",
    "model = tf.keras.models.Sequential()\n",
    "model.add(tf.keras.layers.Dense(1, input_shape=(D,), activation='sigmoid'))\n",
    "\n",
    "model.compile(\n",
    "    optimizer='adam',\n",
    "    loss='binary_crossentropy',\n",
    "    metrics=['accuracy']\n",
    ")"
   ]
  },
  {
   "cell_type": "code",
   "execution_count": 23,
   "metadata": {
    "colab": {
     "base_uri": "https://localhost:8080/"
    },
    "id": "F04AX-CxUveR",
    "outputId": "8639191d-4650-44e3-dd67-d40c32ba5622"
   },
   "outputs": [
    {
     "name": "stdout",
     "output_type": "stream",
     "text": [
      "Epoch 1/100\n",
      "15/15 [==============================] - 3s 106ms/step - loss: 111.4194 - accuracy: 0.4223 - val_loss: 119.9504 - val_accuracy: 0.3684\n",
      "Epoch 2/100\n",
      "15/15 [==============================] - 0s 9ms/step - loss: 113.2594 - accuracy: 0.3665 - val_loss: 107.3363 - val_accuracy: 0.3684\n",
      "Epoch 3/100\n",
      "15/15 [==============================] - 0s 8ms/step - loss: 96.4604 - accuracy: 0.3923 - val_loss: 95.0853 - val_accuracy: 0.3684\n",
      "Epoch 4/100\n",
      "15/15 [==============================] - 0s 8ms/step - loss: 90.2761 - accuracy: 0.3547 - val_loss: 82.5693 - val_accuracy: 0.3684\n",
      "Epoch 5/100\n",
      "15/15 [==============================] - 0s 7ms/step - loss: 73.7018 - accuracy: 0.3829 - val_loss: 70.4272 - val_accuracy: 0.3684\n",
      "Epoch 6/100\n",
      "15/15 [==============================] - 0s 8ms/step - loss: 61.1980 - accuracy: 0.3843 - val_loss: 58.2269 - val_accuracy: 0.3684\n",
      "Epoch 7/100\n",
      "15/15 [==============================] - 0s 7ms/step - loss: 52.7050 - accuracy: 0.3675 - val_loss: 45.7770 - val_accuracy: 0.3684\n",
      "Epoch 8/100\n",
      "15/15 [==============================] - 0s 6ms/step - loss: 39.6002 - accuracy: 0.3700 - val_loss: 33.2392 - val_accuracy: 0.3684\n",
      "Epoch 9/100\n",
      "15/15 [==============================] - 0s 7ms/step - loss: 26.8162 - accuracy: 0.3961 - val_loss: 21.0075 - val_accuracy: 0.3860\n",
      "Epoch 10/100\n",
      "15/15 [==============================] - 0s 6ms/step - loss: 16.8235 - accuracy: 0.3946 - val_loss: 9.8174 - val_accuracy: 0.4737\n",
      "Epoch 11/100\n",
      "15/15 [==============================] - 0s 6ms/step - loss: 6.3879 - accuracy: 0.5523 - val_loss: 3.6995 - val_accuracy: 0.6228\n",
      "Epoch 12/100\n",
      "15/15 [==============================] - 0s 6ms/step - loss: 2.9484 - accuracy: 0.6963 - val_loss: 3.5418 - val_accuracy: 0.6754\n",
      "Epoch 13/100\n",
      "15/15 [==============================] - 0s 6ms/step - loss: 2.5773 - accuracy: 0.7525 - val_loss: 3.3374 - val_accuracy: 0.6491\n",
      "Epoch 14/100\n",
      "15/15 [==============================] - 0s 6ms/step - loss: 2.1976 - accuracy: 0.7622 - val_loss: 3.2279 - val_accuracy: 0.6316\n",
      "Epoch 15/100\n",
      "15/15 [==============================] - 0s 6ms/step - loss: 2.5821 - accuracy: 0.7250 - val_loss: 3.2029 - val_accuracy: 0.6491\n",
      "Epoch 16/100\n",
      "15/15 [==============================] - 0s 6ms/step - loss: 2.1609 - accuracy: 0.7510 - val_loss: 3.1078 - val_accuracy: 0.6316\n",
      "Epoch 17/100\n",
      "15/15 [==============================] - 0s 6ms/step - loss: 2.4636 - accuracy: 0.7385 - val_loss: 3.0470 - val_accuracy: 0.6404\n",
      "Epoch 18/100\n",
      "15/15 [==============================] - 0s 7ms/step - loss: 2.1284 - accuracy: 0.7416 - val_loss: 3.0145 - val_accuracy: 0.6491\n",
      "Epoch 19/100\n",
      "15/15 [==============================] - 0s 6ms/step - loss: 2.4903 - accuracy: 0.7483 - val_loss: 2.9378 - val_accuracy: 0.6579\n",
      "Epoch 20/100\n",
      "15/15 [==============================] - 0s 6ms/step - loss: 2.2040 - accuracy: 0.7660 - val_loss: 2.8787 - val_accuracy: 0.6579\n",
      "Epoch 21/100\n",
      "15/15 [==============================] - 0s 7ms/step - loss: 2.4087 - accuracy: 0.7493 - val_loss: 2.8236 - val_accuracy: 0.6579\n",
      "Epoch 22/100\n",
      "15/15 [==============================] - 0s 6ms/step - loss: 2.1814 - accuracy: 0.7479 - val_loss: 2.7735 - val_accuracy: 0.6579\n",
      "Epoch 23/100\n",
      "15/15 [==============================] - 0s 7ms/step - loss: 2.2336 - accuracy: 0.7442 - val_loss: 2.7224 - val_accuracy: 0.6579\n",
      "Epoch 24/100\n",
      "15/15 [==============================] - 0s 6ms/step - loss: 1.8399 - accuracy: 0.7842 - val_loss: 2.6740 - val_accuracy: 0.6667\n",
      "Epoch 25/100\n",
      "15/15 [==============================] - 0s 7ms/step - loss: 2.3235 - accuracy: 0.7363 - val_loss: 2.6261 - val_accuracy: 0.6930\n",
      "Epoch 26/100\n",
      "15/15 [==============================] - 0s 6ms/step - loss: 2.2415 - accuracy: 0.7666 - val_loss: 2.5829 - val_accuracy: 0.6930\n",
      "Epoch 27/100\n",
      "15/15 [==============================] - 0s 7ms/step - loss: 2.0384 - accuracy: 0.7562 - val_loss: 2.5270 - val_accuracy: 0.6667\n",
      "Epoch 28/100\n",
      "15/15 [==============================] - 0s 7ms/step - loss: 1.8504 - accuracy: 0.7669 - val_loss: 2.4753 - val_accuracy: 0.6930\n",
      "Epoch 29/100\n",
      "15/15 [==============================] - 0s 7ms/step - loss: 1.9116 - accuracy: 0.7913 - val_loss: 2.4286 - val_accuracy: 0.6930\n",
      "Epoch 30/100\n",
      "15/15 [==============================] - 0s 7ms/step - loss: 1.7343 - accuracy: 0.7837 - val_loss: 2.4099 - val_accuracy: 0.6930\n",
      "Epoch 31/100\n",
      "15/15 [==============================] - 0s 7ms/step - loss: 1.7304 - accuracy: 0.7899 - val_loss: 2.3455 - val_accuracy: 0.6930\n",
      "Epoch 32/100\n",
      "15/15 [==============================] - 0s 7ms/step - loss: 1.7987 - accuracy: 0.7918 - val_loss: 2.2955 - val_accuracy: 0.6930\n",
      "Epoch 33/100\n",
      "15/15 [==============================] - 0s 7ms/step - loss: 1.6245 - accuracy: 0.7938 - val_loss: 2.2399 - val_accuracy: 0.7193\n",
      "Epoch 34/100\n",
      "15/15 [==============================] - 0s 15ms/step - loss: 1.8606 - accuracy: 0.7776 - val_loss: 2.2061 - val_accuracy: 0.7105\n",
      "Epoch 35/100\n",
      "15/15 [==============================] - 0s 7ms/step - loss: 2.0635 - accuracy: 0.7703 - val_loss: 2.1517 - val_accuracy: 0.7193\n",
      "Epoch 36/100\n",
      "15/15 [==============================] - 0s 7ms/step - loss: 2.1083 - accuracy: 0.7634 - val_loss: 2.1152 - val_accuracy: 0.7281\n",
      "Epoch 37/100\n",
      "15/15 [==============================] - 0s 7ms/step - loss: 1.9321 - accuracy: 0.7742 - val_loss: 2.0724 - val_accuracy: 0.7281\n",
      "Epoch 38/100\n",
      "15/15 [==============================] - 0s 6ms/step - loss: 1.5296 - accuracy: 0.7998 - val_loss: 2.0204 - val_accuracy: 0.7281\n",
      "Epoch 39/100\n",
      "15/15 [==============================] - 0s 8ms/step - loss: 1.9994 - accuracy: 0.7728 - val_loss: 1.9736 - val_accuracy: 0.7281\n",
      "Epoch 40/100\n",
      "15/15 [==============================] - 0s 7ms/step - loss: 1.7527 - accuracy: 0.7816 - val_loss: 1.9246 - val_accuracy: 0.7281\n",
      "Epoch 41/100\n",
      "15/15 [==============================] - 0s 8ms/step - loss: 1.6527 - accuracy: 0.7874 - val_loss: 1.9031 - val_accuracy: 0.7281\n",
      "Epoch 42/100\n",
      "15/15 [==============================] - 0s 7ms/step - loss: 1.3883 - accuracy: 0.8072 - val_loss: 1.8750 - val_accuracy: 0.7368\n",
      "Epoch 43/100\n",
      "15/15 [==============================] - 0s 7ms/step - loss: 1.6881 - accuracy: 0.7940 - val_loss: 1.8083 - val_accuracy: 0.7368\n",
      "Epoch 44/100\n",
      "15/15 [==============================] - 0s 6ms/step - loss: 1.6893 - accuracy: 0.7922 - val_loss: 1.7696 - val_accuracy: 0.7456\n",
      "Epoch 45/100\n",
      "15/15 [==============================] - 0s 7ms/step - loss: 1.8816 - accuracy: 0.7731 - val_loss: 1.7838 - val_accuracy: 0.7368\n",
      "Epoch 46/100\n",
      "15/15 [==============================] - 0s 7ms/step - loss: 1.4153 - accuracy: 0.8012 - val_loss: 1.7195 - val_accuracy: 0.7368\n",
      "Epoch 47/100\n",
      "15/15 [==============================] - 0s 9ms/step - loss: 1.4414 - accuracy: 0.8056 - val_loss: 1.6678 - val_accuracy: 0.7456\n",
      "Epoch 48/100\n",
      "15/15 [==============================] - 0s 8ms/step - loss: 1.2809 - accuracy: 0.8286 - val_loss: 1.7252 - val_accuracy: 0.7281\n",
      "Epoch 49/100\n",
      "15/15 [==============================] - 0s 6ms/step - loss: 1.4336 - accuracy: 0.7968 - val_loss: 1.6064 - val_accuracy: 0.7544\n",
      "Epoch 50/100\n",
      "15/15 [==============================] - 0s 7ms/step - loss: 1.4973 - accuracy: 0.7968 - val_loss: 1.5887 - val_accuracy: 0.7456\n",
      "Epoch 51/100\n",
      "15/15 [==============================] - 0s 7ms/step - loss: 1.3452 - accuracy: 0.8186 - val_loss: 1.5400 - val_accuracy: 0.7895\n",
      "Epoch 52/100\n",
      "15/15 [==============================] - 0s 7ms/step - loss: 1.3299 - accuracy: 0.8209 - val_loss: 1.5266 - val_accuracy: 0.7456\n",
      "Epoch 53/100\n",
      "15/15 [==============================] - 0s 6ms/step - loss: 1.6748 - accuracy: 0.7696 - val_loss: 1.5355 - val_accuracy: 0.7281\n",
      "Epoch 54/100\n",
      "15/15 [==============================] - 0s 7ms/step - loss: 1.4980 - accuracy: 0.7695 - val_loss: 1.4681 - val_accuracy: 0.7544\n",
      "Epoch 55/100\n",
      "15/15 [==============================] - 0s 7ms/step - loss: 1.4546 - accuracy: 0.7782 - val_loss: 1.4496 - val_accuracy: 0.7456\n",
      "Epoch 56/100\n",
      "15/15 [==============================] - 0s 7ms/step - loss: 1.3578 - accuracy: 0.8098 - val_loss: 1.4227 - val_accuracy: 0.7456\n",
      "Epoch 57/100\n",
      "15/15 [==============================] - 0s 8ms/step - loss: 1.2906 - accuracy: 0.7805 - val_loss: 1.3848 - val_accuracy: 0.7719\n",
      "Epoch 58/100\n"
     ]
    },
    {
     "name": "stdout",
     "output_type": "stream",
     "text": [
      "15/15 [==============================] - 0s 8ms/step - loss: 1.4334 - accuracy: 0.8193 - val_loss: 1.3561 - val_accuracy: 0.7807\n",
      "Epoch 59/100\n",
      "15/15 [==============================] - 0s 7ms/step - loss: 1.3051 - accuracy: 0.8176 - val_loss: 1.3235 - val_accuracy: 0.8070\n",
      "Epoch 60/100\n",
      "15/15 [==============================] - 0s 7ms/step - loss: 1.5308 - accuracy: 0.8050 - val_loss: 1.3078 - val_accuracy: 0.7719\n",
      "Epoch 61/100\n",
      "15/15 [==============================] - 0s 8ms/step - loss: 1.0986 - accuracy: 0.8256 - val_loss: 1.2838 - val_accuracy: 0.7807\n",
      "Epoch 62/100\n",
      "15/15 [==============================] - 0s 7ms/step - loss: 1.1617 - accuracy: 0.8331 - val_loss: 1.2611 - val_accuracy: 0.7807\n",
      "Epoch 63/100\n",
      "15/15 [==============================] - 0s 14ms/step - loss: 1.2763 - accuracy: 0.8134 - val_loss: 1.2232 - val_accuracy: 0.8070\n",
      "Epoch 64/100\n",
      "15/15 [==============================] - 0s 7ms/step - loss: 1.1730 - accuracy: 0.7995 - val_loss: 1.2434 - val_accuracy: 0.7456\n",
      "Epoch 65/100\n",
      "15/15 [==============================] - 0s 7ms/step - loss: 1.5225 - accuracy: 0.7956 - val_loss: 1.1900 - val_accuracy: 0.7807\n",
      "Epoch 66/100\n",
      "15/15 [==============================] - 0s 7ms/step - loss: 1.2419 - accuracy: 0.8090 - val_loss: 1.1579 - val_accuracy: 0.8070\n",
      "Epoch 67/100\n",
      "15/15 [==============================] - 0s 7ms/step - loss: 1.1240 - accuracy: 0.8270 - val_loss: 1.1262 - val_accuracy: 0.8158\n",
      "Epoch 68/100\n",
      "15/15 [==============================] - 0s 7ms/step - loss: 1.0858 - accuracy: 0.8210 - val_loss: 1.1224 - val_accuracy: 0.7807\n",
      "Epoch 69/100\n",
      "15/15 [==============================] - 0s 8ms/step - loss: 1.3193 - accuracy: 0.7959 - val_loss: 1.0745 - val_accuracy: 0.8070\n",
      "Epoch 70/100\n",
      "15/15 [==============================] - 0s 7ms/step - loss: 1.3959 - accuracy: 0.8172 - val_loss: 1.0513 - val_accuracy: 0.8158\n",
      "Epoch 71/100\n",
      "15/15 [==============================] - 0s 7ms/step - loss: 1.2764 - accuracy: 0.8230 - val_loss: 1.0521 - val_accuracy: 0.7895\n",
      "Epoch 72/100\n",
      "15/15 [==============================] - 0s 6ms/step - loss: 1.1005 - accuracy: 0.8197 - val_loss: 1.0197 - val_accuracy: 0.7982\n",
      "Epoch 73/100\n",
      "15/15 [==============================] - 0s 7ms/step - loss: 1.1311 - accuracy: 0.8238 - val_loss: 0.9921 - val_accuracy: 0.8070\n",
      "Epoch 74/100\n",
      "15/15 [==============================] - 0s 7ms/step - loss: 1.2862 - accuracy: 0.8004 - val_loss: 0.9660 - val_accuracy: 0.8158\n",
      "Epoch 75/100\n",
      "15/15 [==============================] - 0s 6ms/step - loss: 0.9471 - accuracy: 0.8465 - val_loss: 0.9474 - val_accuracy: 0.8246\n",
      "Epoch 76/100\n",
      "15/15 [==============================] - 0s 6ms/step - loss: 0.9870 - accuracy: 0.8541 - val_loss: 0.9228 - val_accuracy: 0.8421\n",
      "Epoch 77/100\n",
      "15/15 [==============================] - 0s 7ms/step - loss: 1.0709 - accuracy: 0.8252 - val_loss: 0.9244 - val_accuracy: 0.8070\n",
      "Epoch 78/100\n",
      "15/15 [==============================] - 0s 11ms/step - loss: 1.0330 - accuracy: 0.8167 - val_loss: 0.9204 - val_accuracy: 0.8158\n",
      "Epoch 79/100\n",
      "15/15 [==============================] - 0s 7ms/step - loss: 0.9639 - accuracy: 0.8408 - val_loss: 0.8758 - val_accuracy: 0.8158\n",
      "Epoch 80/100\n",
      "15/15 [==============================] - 0s 7ms/step - loss: 0.9419 - accuracy: 0.8342 - val_loss: 0.8730 - val_accuracy: 0.8246\n",
      "Epoch 81/100\n",
      "15/15 [==============================] - 0s 6ms/step - loss: 0.8769 - accuracy: 0.8350 - val_loss: 0.8469 - val_accuracy: 0.8158\n",
      "Epoch 82/100\n",
      "15/15 [==============================] - 0s 7ms/step - loss: 1.0351 - accuracy: 0.8414 - val_loss: 0.8419 - val_accuracy: 0.8158\n",
      "Epoch 83/100\n",
      "15/15 [==============================] - 0s 6ms/step - loss: 1.1076 - accuracy: 0.8255 - val_loss: 0.8130 - val_accuracy: 0.8246\n",
      "Epoch 84/100\n",
      "15/15 [==============================] - 0s 6ms/step - loss: 0.8699 - accuracy: 0.8425 - val_loss: 0.7906 - val_accuracy: 0.8246\n",
      "Epoch 85/100\n",
      "15/15 [==============================] - 0s 6ms/step - loss: 0.8718 - accuracy: 0.8274 - val_loss: 0.8102 - val_accuracy: 0.8246\n",
      "Epoch 86/100\n",
      "15/15 [==============================] - 0s 6ms/step - loss: 0.8555 - accuracy: 0.8499 - val_loss: 0.7618 - val_accuracy: 0.8333\n",
      "Epoch 87/100\n",
      "15/15 [==============================] - 0s 7ms/step - loss: 0.9931 - accuracy: 0.8295 - val_loss: 0.7367 - val_accuracy: 0.8596\n",
      "Epoch 88/100\n",
      "15/15 [==============================] - 0s 7ms/step - loss: 1.0199 - accuracy: 0.8261 - val_loss: 0.7586 - val_accuracy: 0.8246\n",
      "Epoch 89/100\n",
      "15/15 [==============================] - 0s 7ms/step - loss: 0.7306 - accuracy: 0.8581 - val_loss: 0.7195 - val_accuracy: 0.8333\n",
      "Epoch 90/100\n",
      "15/15 [==============================] - 0s 7ms/step - loss: 0.8133 - accuracy: 0.8425 - val_loss: 0.7122 - val_accuracy: 0.8333\n",
      "Epoch 91/100\n",
      "15/15 [==============================] - 0s 6ms/step - loss: 0.8035 - accuracy: 0.8537 - val_loss: 0.6942 - val_accuracy: 0.8333\n",
      "Epoch 92/100\n",
      "15/15 [==============================] - 0s 7ms/step - loss: 0.7904 - accuracy: 0.8474 - val_loss: 0.6713 - val_accuracy: 0.8509\n",
      "Epoch 93/100\n",
      "15/15 [==============================] - 0s 7ms/step - loss: 0.7615 - accuracy: 0.8454 - val_loss: 0.6560 - val_accuracy: 0.8596\n",
      "Epoch 94/100\n",
      "15/15 [==============================] - 0s 6ms/step - loss: 0.7508 - accuracy: 0.8617 - val_loss: 0.6650 - val_accuracy: 0.8421\n",
      "Epoch 95/100\n",
      "15/15 [==============================] - 0s 7ms/step - loss: 0.7849 - accuracy: 0.8451 - val_loss: 0.6421 - val_accuracy: 0.8333\n",
      "Epoch 96/100\n",
      "15/15 [==============================] - 0s 7ms/step - loss: 0.8220 - accuracy: 0.8383 - val_loss: 0.6099 - val_accuracy: 0.8596\n",
      "Epoch 97/100\n",
      "15/15 [==============================] - 0s 7ms/step - loss: 0.7231 - accuracy: 0.8493 - val_loss: 0.6056 - val_accuracy: 0.8684\n",
      "Epoch 98/100\n",
      "15/15 [==============================] - 0s 7ms/step - loss: 0.7203 - accuracy: 0.8515 - val_loss: 0.6010 - val_accuracy: 0.8596\n",
      "Epoch 99/100\n",
      "15/15 [==============================] - 0s 15ms/step - loss: 0.6224 - accuracy: 0.8881 - val_loss: 0.5737 - val_accuracy: 0.8772\n",
      "Epoch 100/100\n",
      "15/15 [==============================] - 0s 7ms/step - loss: 0.8394 - accuracy: 0.8542 - val_loss: 0.6052 - val_accuracy: 0.8333\n"
     ]
    }
   ],
   "source": [
    "# Train the model for 100 epochs\n",
    "model_train = model.fit(X_train, y_train, validation_data=(X_test, y_test), epochs=100)"
   ]
  },
  {
   "cell_type": "code",
   "execution_count": 25,
   "metadata": {
    "colab": {
     "base_uri": "https://localhost:8080/"
    },
    "id": "e7t5h2xMWXX6",
    "outputId": "e3e4247c-0c96-424e-c31e-10d7ed28dd02"
   },
   "outputs": [
    {
     "name": "stdout",
     "output_type": "stream",
     "text": [
      "Train data accuracy:\n",
      "15/15 [==============================] - 0s 1ms/step - loss: 0.7208 - accuracy: 0.8527\n",
      "[0.7207844257354736, 0.8527472615242004]\n",
      "Test data accuracy:\n",
      "4/4 [==============================] - 0s 2ms/step - loss: 0.6052 - accuracy: 0.8333\n",
      "[0.6052404642105103, 0.8333333134651184]\n"
     ]
    }
   ],
   "source": [
    "# Evaluate the model \n",
    "\n",
    "print(\"Train data accuracy:\")\n",
    "print(model.evaluate(X_train, y_train))\n",
    "print(\"Test data accuracy:\")\n",
    "print(model.evaluate(X_test, y_test))"
   ]
  },
  {
   "cell_type": "code",
   "execution_count": 27,
   "metadata": {
    "colab": {
     "base_uri": "https://localhost:8080/",
     "height": 295
    },
    "id": "BBEljHhSXQBd",
    "outputId": "96887595-0423-419c-bdda-34a9aaa29d0a"
   },
   "outputs": [
    {
     "data": {
      "image/png": "[encoded data removed]",
      "text/plain": [
       "<Figure size 432x288 with 1 Axes>"
      ]
     },
     "metadata": {
      "needs_background": "light"
     },
     "output_type": "display_data"
    }
   ],
   "source": [
    "#There is a loss in every iteration\n",
    "import matplotlib.pyplot as plt\n",
    "plt.plot(model_train.history['loss'], label='loss')\n",
    "plt.plot(model_train.history['val_loss'], label='val_loss')\n",
    "plt.title(\"Loss and Validation Loss\", loc='center')\n",
    "plt.xlabel(\"Loss and Val Loss\")\n",
    "plt.ylabel(\"Iteration\")\n",
    "plt.legend();"
   ]
  },
  {
   "cell_type": "code",
   "execution_count": 28,
   "metadata": {
    "colab": {
     "base_uri": "https://localhost:8080/",
     "height": 295
    },
    "id": "ezYmDZhLYR8o",
    "outputId": "6ebf55b1-1e04-47fb-9647-4ddf03266161"
   },
   "outputs": [
    {
     "data": {
      "image/png": "[encoded data removed]",
      "text/plain": [
       "<Figure size 432x288 with 1 Axes>"
      ]
     },
     "metadata": {
      "needs_background": "light"
     },
     "output_type": "display_data"
    }
   ],
   "source": [
    "# Plot accuracy\n",
    "\n",
    "#There is an increasing accuracy in every iteration\n",
    "\n",
    "import matplotlib.pyplot as plt\n",
    "plt.plot(model_train.history['accuracy'], label='acc')\n",
    "plt.plot(model_train.history['val_accuracy'], label='val_acc')\n",
    "plt.title(\"Accuracy and Validation Accuracy\", loc='center')\n",
    "plt.xlabel(\"Accuracy and Val Accuracy\")\n",
    "plt.ylabel(\"Iteration\")\n",
    "plt.legend();"
   ]
  },
  {
   "cell_type": "code",
   "execution_count": 31,
   "metadata": {
    "colab": {
     "base_uri": "https://localhost:8080/"
    },
    "id": "RBxTsJKlY4fb",
    "outputId": "a3f8f888-7795-4fa8-879c-807fdaf61e27",
    "scrolled": true
   },
   "outputs": [
    {
     "data": {
      "text/plain": [
       "array([1., 0., 0., 0., 0., 0., 0., 1., 1., 0., 1., 1., 0., 1., 1., 1., 0.,\n",
       "       0., 1., 0., 1., 0., 1., 1., 1., 0., 0., 1., 0., 1., 0., 1., 1., 0.,\n",
       "       1., 0., 1., 0., 1., 1., 1., 1., 0., 0., 1., 1., 0., 0., 1., 0., 1.,\n",
       "       1., 0., 1., 0., 0., 0., 1., 1., 0., 1., 0., 1., 1., 0., 1., 0., 0.,\n",
       "       0., 1., 0., 1., 1., 0., 0., 1., 1., 1., 1., 0., 1., 1., 1., 1., 0.,\n",
       "       1., 1., 0., 1., 1., 1., 1., 1., 0., 1., 1., 0., 0., 0., 1., 1., 0.,\n",
       "       0., 0., 0., 1., 0., 1., 1., 1., 1., 1., 1., 1.], dtype=float32)"
      ]
     },
     "execution_count": 31,
     "metadata": {},
     "output_type": "execute_result"
    }
   ],
   "source": [
    "# Calculating predictions\n",
    "\n",
    "y_pred = model.predict(X_test)\n",
    "y_pred = np.round(y_pred).flatten()\n",
    "y_pred\n"
   ]
  },
  {
   "cell_type": "code",
   "execution_count": 32,
   "metadata": {
    "colab": {
     "base_uri": "https://localhost:8080/"
    },
    "id": "2XajmwUyaCB1",
    "outputId": "b84623d8-086c-4502-c6ab-ca5e5c82be3a"
   },
   "outputs": [
    {
     "name": "stdout",
     "output_type": "stream",
     "text": [
      "4/4 [==============================] - 0s 2ms/step - loss: 0.6052 - accuracy: 0.8333\n"
     ]
    },
    {
     "data": {
      "text/plain": [
       "[0.6052404642105103, 0.8333333134651184]"
      ]
     },
     "execution_count": 32,
     "metadata": {},
     "output_type": "execute_result"
    }
   ],
   "source": [
    "# Calculate Accuracy by model\n",
    "\n",
    "#Accuracy: 0.8333\n",
    "model.evaluate(X_test, y_test)"
   ]
  }
 ],
 "metadata": {
  "colab": {
   "collapsed_sections": [],
   "name": "1 Linear_Classification.ipynb",
   "provenance": []
  },
  "kernelspec": {
   "display_name": "Python 3",
   "language": "python",
   "name": "python3"
  },
  "language_info": {
   "codemirror_mode": {
    "name": "ipython",
    "version": 3
   },
   "file_extension": ".py",
   "mimetype": "text/x-python",
   "name": "python",
   "nbconvert_exporter": "python",
   "pygments_lexer": "ipython3",
   "version": "3.7.6"
  }
 },
 "nbformat": 4,
 "nbformat_minor": 1
}
